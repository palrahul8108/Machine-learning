{
 "cells": [
  {
   "cell_type": "code",
   "execution_count": 1,
   "id": "210eb690",
   "metadata": {},
   "outputs": [],
   "source": [
    "# import liabraries\n",
    "import numpy as np\n",
    "import pandas as pd \n",
    "import matplotlib.pyplot as plt , seaborn as sns \n",
    "%matplotlib inline\n",
    "import statistics\n",
    "import warnings\n",
    "warnings.filterwarnings('ignore')"
   ]
  },
  {
   "cell_type": "markdown",
   "id": "63877d7a",
   "metadata": {},
   "source": [
    "# import dataset"
   ]
  },
  {
   "cell_type": "code",
   "execution_count": 2,
   "id": "6495d417",
   "metadata": {},
   "outputs": [
    {
     "data": {
      "text/html": [
       "<div>\n",
       "<style scoped>\n",
       "    .dataframe tbody tr th:only-of-type {\n",
       "        vertical-align: middle;\n",
       "    }\n",
       "\n",
       "    .dataframe tbody tr th {\n",
       "        vertical-align: top;\n",
       "    }\n",
       "\n",
       "    .dataframe thead th {\n",
       "        text-align: right;\n",
       "    }\n",
       "</style>\n",
       "<table border=\"1\" class=\"dataframe\">\n",
       "  <thead>\n",
       "    <tr style=\"text-align: right;\">\n",
       "      <th></th>\n",
       "      <th>age</th>\n",
       "      <th>job</th>\n",
       "      <th>salary</th>\n",
       "      <th>marital</th>\n",
       "      <th>education</th>\n",
       "      <th>targeted</th>\n",
       "      <th>default</th>\n",
       "      <th>balance</th>\n",
       "      <th>housing</th>\n",
       "      <th>loan</th>\n",
       "      <th>contact</th>\n",
       "      <th>day</th>\n",
       "      <th>month</th>\n",
       "      <th>duration</th>\n",
       "      <th>campaign</th>\n",
       "      <th>pdays</th>\n",
       "      <th>previous</th>\n",
       "      <th>poutcome</th>\n",
       "      <th>response</th>\n",
       "    </tr>\n",
       "  </thead>\n",
       "  <tbody>\n",
       "    <tr>\n",
       "      <th>0</th>\n",
       "      <td>58</td>\n",
       "      <td>management</td>\n",
       "      <td>100000</td>\n",
       "      <td>married</td>\n",
       "      <td>tertiary</td>\n",
       "      <td>yes</td>\n",
       "      <td>no</td>\n",
       "      <td>2143</td>\n",
       "      <td>yes</td>\n",
       "      <td>no</td>\n",
       "      <td>unknown</td>\n",
       "      <td>5</td>\n",
       "      <td>may</td>\n",
       "      <td>261</td>\n",
       "      <td>1</td>\n",
       "      <td>-1</td>\n",
       "      <td>0</td>\n",
       "      <td>unknown</td>\n",
       "      <td>no</td>\n",
       "    </tr>\n",
       "    <tr>\n",
       "      <th>1</th>\n",
       "      <td>44</td>\n",
       "      <td>technician</td>\n",
       "      <td>60000</td>\n",
       "      <td>single</td>\n",
       "      <td>secondary</td>\n",
       "      <td>yes</td>\n",
       "      <td>no</td>\n",
       "      <td>29</td>\n",
       "      <td>yes</td>\n",
       "      <td>no</td>\n",
       "      <td>unknown</td>\n",
       "      <td>5</td>\n",
       "      <td>may</td>\n",
       "      <td>151</td>\n",
       "      <td>1</td>\n",
       "      <td>-1</td>\n",
       "      <td>0</td>\n",
       "      <td>unknown</td>\n",
       "      <td>no</td>\n",
       "    </tr>\n",
       "    <tr>\n",
       "      <th>2</th>\n",
       "      <td>33</td>\n",
       "      <td>entrepreneur</td>\n",
       "      <td>120000</td>\n",
       "      <td>married</td>\n",
       "      <td>secondary</td>\n",
       "      <td>yes</td>\n",
       "      <td>no</td>\n",
       "      <td>2</td>\n",
       "      <td>yes</td>\n",
       "      <td>yes</td>\n",
       "      <td>unknown</td>\n",
       "      <td>5</td>\n",
       "      <td>may</td>\n",
       "      <td>76</td>\n",
       "      <td>1</td>\n",
       "      <td>-1</td>\n",
       "      <td>0</td>\n",
       "      <td>unknown</td>\n",
       "      <td>no</td>\n",
       "    </tr>\n",
       "    <tr>\n",
       "      <th>3</th>\n",
       "      <td>47</td>\n",
       "      <td>blue-collar</td>\n",
       "      <td>20000</td>\n",
       "      <td>married</td>\n",
       "      <td>unknown</td>\n",
       "      <td>no</td>\n",
       "      <td>no</td>\n",
       "      <td>1506</td>\n",
       "      <td>yes</td>\n",
       "      <td>no</td>\n",
       "      <td>unknown</td>\n",
       "      <td>5</td>\n",
       "      <td>may</td>\n",
       "      <td>92</td>\n",
       "      <td>1</td>\n",
       "      <td>-1</td>\n",
       "      <td>0</td>\n",
       "      <td>unknown</td>\n",
       "      <td>no</td>\n",
       "    </tr>\n",
       "    <tr>\n",
       "      <th>4</th>\n",
       "      <td>33</td>\n",
       "      <td>unknown</td>\n",
       "      <td>0</td>\n",
       "      <td>single</td>\n",
       "      <td>unknown</td>\n",
       "      <td>no</td>\n",
       "      <td>no</td>\n",
       "      <td>1</td>\n",
       "      <td>no</td>\n",
       "      <td>no</td>\n",
       "      <td>unknown</td>\n",
       "      <td>5</td>\n",
       "      <td>may</td>\n",
       "      <td>198</td>\n",
       "      <td>1</td>\n",
       "      <td>-1</td>\n",
       "      <td>0</td>\n",
       "      <td>unknown</td>\n",
       "      <td>no</td>\n",
       "    </tr>\n",
       "  </tbody>\n",
       "</table>\n",
       "</div>"
      ],
      "text/plain": [
       "   age           job  salary  marital  education targeted default  balance  \\\n",
       "0   58    management  100000  married   tertiary      yes      no     2143   \n",
       "1   44    technician   60000   single  secondary      yes      no       29   \n",
       "2   33  entrepreneur  120000  married  secondary      yes      no        2   \n",
       "3   47   blue-collar   20000  married    unknown       no      no     1506   \n",
       "4   33       unknown       0   single    unknown       no      no        1   \n",
       "\n",
       "  housing loan  contact  day month  duration  campaign  pdays  previous  \\\n",
       "0     yes   no  unknown    5   may       261         1     -1         0   \n",
       "1     yes   no  unknown    5   may       151         1     -1         0   \n",
       "2     yes  yes  unknown    5   may        76         1     -1         0   \n",
       "3     yes   no  unknown    5   may        92         1     -1         0   \n",
       "4      no   no  unknown    5   may       198         1     -1         0   \n",
       "\n",
       "  poutcome response  \n",
       "0  unknown       no  \n",
       "1  unknown       no  \n",
       "2  unknown       no  \n",
       "3  unknown       no  \n",
       "4  unknown       no  "
      ]
     },
     "execution_count": 2,
     "metadata": {},
     "output_type": "execute_result"
    }
   ],
   "source": [
    "df = pd.read_csv(r\"bank-marketing.csv\")\n",
    "df.head()"
   ]
  },
  {
   "cell_type": "code",
   "execution_count": 3,
   "id": "38f4234e",
   "metadata": {},
   "outputs": [
    {
     "data": {
      "text/plain": [
       "(45211, 19)"
      ]
     },
     "execution_count": 3,
     "metadata": {},
     "output_type": "execute_result"
    }
   ],
   "source": [
    "df.shape   #here we can see total no. of row and column"
   ]
  },
  {
   "cell_type": "code",
   "execution_count": 4,
   "id": "2594cfcf",
   "metadata": {},
   "outputs": [],
   "source": [
    "# checking data types"
   ]
  },
  {
   "cell_type": "code",
   "execution_count": 5,
   "id": "d76b51da",
   "metadata": {},
   "outputs": [
    {
     "name": "stdout",
     "output_type": "stream",
     "text": [
      "<class 'pandas.core.frame.DataFrame'>\n",
      "RangeIndex: 45211 entries, 0 to 45210\n",
      "Data columns (total 19 columns):\n",
      " #   Column     Non-Null Count  Dtype \n",
      "---  ------     --------------  ----- \n",
      " 0   age        45211 non-null  int64 \n",
      " 1   job        45211 non-null  object\n",
      " 2   salary     45211 non-null  int64 \n",
      " 3   marital    45211 non-null  object\n",
      " 4   education  45211 non-null  object\n",
      " 5   targeted   45211 non-null  object\n",
      " 6   default    45211 non-null  object\n",
      " 7   balance    45211 non-null  int64 \n",
      " 8   housing    45211 non-null  object\n",
      " 9   loan       45211 non-null  object\n",
      " 10  contact    45211 non-null  object\n",
      " 11  day        45211 non-null  int64 \n",
      " 12  month      45211 non-null  object\n",
      " 13  duration   45211 non-null  int64 \n",
      " 14  campaign   45211 non-null  int64 \n",
      " 15  pdays      45211 non-null  int64 \n",
      " 16  previous   45211 non-null  int64 \n",
      " 17  poutcome   45211 non-null  object\n",
      " 18  response   45211 non-null  object\n",
      "dtypes: int64(8), object(11)\n",
      "memory usage: 6.6+ MB\n"
     ]
    }
   ],
   "source": [
    "df.info()"
   ]
  },
  {
   "cell_type": "code",
   "execution_count": 6,
   "id": "52653bff",
   "metadata": {},
   "outputs": [
    {
     "data": {
      "text/plain": [
       "age            77\n",
       "job            12\n",
       "salary         11\n",
       "marital         3\n",
       "education       4\n",
       "targeted        2\n",
       "default         2\n",
       "balance      7168\n",
       "housing         2\n",
       "loan            2\n",
       "contact         3\n",
       "day            31\n",
       "month          12\n",
       "duration     1573\n",
       "campaign       48\n",
       "pdays         559\n",
       "previous       41\n",
       "poutcome        4\n",
       "response        2\n",
       "dtype: int64"
      ]
     },
     "execution_count": 6,
     "metadata": {},
     "output_type": "execute_result"
    }
   ],
   "source": [
    "#checking unique value\n",
    "df.nunique()"
   ]
  },
  {
   "cell_type": "code",
   "execution_count": 7,
   "id": "9932f2b6",
   "metadata": {},
   "outputs": [
    {
     "data": {
      "text/plain": [
       "age          0\n",
       "job          0\n",
       "salary       0\n",
       "marital      0\n",
       "education    0\n",
       "targeted     0\n",
       "default      0\n",
       "balance      0\n",
       "housing      0\n",
       "loan         0\n",
       "contact      0\n",
       "day          0\n",
       "month        0\n",
       "duration     0\n",
       "campaign     0\n",
       "pdays        0\n",
       "previous     0\n",
       "poutcome     0\n",
       "response     0\n",
       "dtype: int64"
      ]
     },
     "execution_count": 7,
     "metadata": {},
     "output_type": "execute_result"
    }
   ],
   "source": [
    "\n",
    "df.isnull().sum()"
   ]
  },
  {
   "cell_type": "code",
   "execution_count": 8,
   "id": "9aa598dc",
   "metadata": {},
   "outputs": [],
   "source": [
    "# dataset does not contain any missing value"
   ]
  },
  {
   "cell_type": "code",
   "execution_count": 9,
   "id": "feae7028",
   "metadata": {},
   "outputs": [
    {
     "data": {
      "text/html": [
       "<div>\n",
       "<style scoped>\n",
       "    .dataframe tbody tr th:only-of-type {\n",
       "        vertical-align: middle;\n",
       "    }\n",
       "\n",
       "    .dataframe tbody tr th {\n",
       "        vertical-align: top;\n",
       "    }\n",
       "\n",
       "    .dataframe thead th {\n",
       "        text-align: right;\n",
       "    }\n",
       "</style>\n",
       "<table border=\"1\" class=\"dataframe\">\n",
       "  <thead>\n",
       "    <tr style=\"text-align: right;\">\n",
       "      <th></th>\n",
       "      <th>age</th>\n",
       "      <th>salary</th>\n",
       "      <th>balance</th>\n",
       "      <th>day</th>\n",
       "      <th>duration</th>\n",
       "      <th>campaign</th>\n",
       "      <th>pdays</th>\n",
       "      <th>previous</th>\n",
       "    </tr>\n",
       "  </thead>\n",
       "  <tbody>\n",
       "    <tr>\n",
       "      <th>count</th>\n",
       "      <td>45211.000000</td>\n",
       "      <td>45211.000000</td>\n",
       "      <td>45211.000000</td>\n",
       "      <td>45211.000000</td>\n",
       "      <td>45211.000000</td>\n",
       "      <td>45211.000000</td>\n",
       "      <td>45211.000000</td>\n",
       "      <td>45211.000000</td>\n",
       "    </tr>\n",
       "    <tr>\n",
       "      <th>mean</th>\n",
       "      <td>40.936210</td>\n",
       "      <td>57006.171065</td>\n",
       "      <td>1362.272058</td>\n",
       "      <td>15.806419</td>\n",
       "      <td>258.163080</td>\n",
       "      <td>2.763841</td>\n",
       "      <td>40.197828</td>\n",
       "      <td>0.580323</td>\n",
       "    </tr>\n",
       "    <tr>\n",
       "      <th>std</th>\n",
       "      <td>10.618762</td>\n",
       "      <td>32085.718415</td>\n",
       "      <td>3044.765829</td>\n",
       "      <td>8.322476</td>\n",
       "      <td>257.527812</td>\n",
       "      <td>3.098021</td>\n",
       "      <td>100.128746</td>\n",
       "      <td>2.303441</td>\n",
       "    </tr>\n",
       "    <tr>\n",
       "      <th>min</th>\n",
       "      <td>18.000000</td>\n",
       "      <td>0.000000</td>\n",
       "      <td>-8019.000000</td>\n",
       "      <td>1.000000</td>\n",
       "      <td>0.000000</td>\n",
       "      <td>1.000000</td>\n",
       "      <td>-1.000000</td>\n",
       "      <td>0.000000</td>\n",
       "    </tr>\n",
       "    <tr>\n",
       "      <th>25%</th>\n",
       "      <td>33.000000</td>\n",
       "      <td>20000.000000</td>\n",
       "      <td>72.000000</td>\n",
       "      <td>8.000000</td>\n",
       "      <td>103.000000</td>\n",
       "      <td>1.000000</td>\n",
       "      <td>-1.000000</td>\n",
       "      <td>0.000000</td>\n",
       "    </tr>\n",
       "    <tr>\n",
       "      <th>50%</th>\n",
       "      <td>39.000000</td>\n",
       "      <td>60000.000000</td>\n",
       "      <td>448.000000</td>\n",
       "      <td>16.000000</td>\n",
       "      <td>180.000000</td>\n",
       "      <td>2.000000</td>\n",
       "      <td>-1.000000</td>\n",
       "      <td>0.000000</td>\n",
       "    </tr>\n",
       "    <tr>\n",
       "      <th>75%</th>\n",
       "      <td>48.000000</td>\n",
       "      <td>70000.000000</td>\n",
       "      <td>1428.000000</td>\n",
       "      <td>21.000000</td>\n",
       "      <td>319.000000</td>\n",
       "      <td>3.000000</td>\n",
       "      <td>-1.000000</td>\n",
       "      <td>0.000000</td>\n",
       "    </tr>\n",
       "    <tr>\n",
       "      <th>max</th>\n",
       "      <td>95.000000</td>\n",
       "      <td>120000.000000</td>\n",
       "      <td>102127.000000</td>\n",
       "      <td>31.000000</td>\n",
       "      <td>4918.000000</td>\n",
       "      <td>63.000000</td>\n",
       "      <td>871.000000</td>\n",
       "      <td>275.000000</td>\n",
       "    </tr>\n",
       "  </tbody>\n",
       "</table>\n",
       "</div>"
      ],
      "text/plain": [
       "                age         salary        balance           day      duration  \\\n",
       "count  45211.000000   45211.000000   45211.000000  45211.000000  45211.000000   \n",
       "mean      40.936210   57006.171065    1362.272058     15.806419    258.163080   \n",
       "std       10.618762   32085.718415    3044.765829      8.322476    257.527812   \n",
       "min       18.000000       0.000000   -8019.000000      1.000000      0.000000   \n",
       "25%       33.000000   20000.000000      72.000000      8.000000    103.000000   \n",
       "50%       39.000000   60000.000000     448.000000     16.000000    180.000000   \n",
       "75%       48.000000   70000.000000    1428.000000     21.000000    319.000000   \n",
       "max       95.000000  120000.000000  102127.000000     31.000000   4918.000000   \n",
       "\n",
       "           campaign         pdays      previous  \n",
       "count  45211.000000  45211.000000  45211.000000  \n",
       "mean       2.763841     40.197828      0.580323  \n",
       "std        3.098021    100.128746      2.303441  \n",
       "min        1.000000     -1.000000      0.000000  \n",
       "25%        1.000000     -1.000000      0.000000  \n",
       "50%        2.000000     -1.000000      0.000000  \n",
       "75%        3.000000     -1.000000      0.000000  \n",
       "max       63.000000    871.000000    275.000000  "
      ]
     },
     "execution_count": 9,
     "metadata": {},
     "output_type": "execute_result"
    }
   ],
   "source": [
    "df.describe()"
   ]
  },
  {
   "cell_type": "markdown",
   "id": "f2c4004b",
   "metadata": {},
   "source": [
    "### Describe the pdays column, make note of the mean, median and minimum values. Anything\n",
    "### fishy in the values?"
   ]
  },
  {
   "cell_type": "code",
   "execution_count": 10,
   "id": "6d7be7ad",
   "metadata": {},
   "outputs": [
    {
     "data": {
      "text/plain": [
       "count    45211.000000\n",
       "mean        40.197828\n",
       "std        100.128746\n",
       "min         -1.000000\n",
       "25%         -1.000000\n",
       "50%         -1.000000\n",
       "75%         -1.000000\n",
       "max        871.000000\n",
       "Name: pdays, dtype: float64"
      ]
     },
     "execution_count": 10,
     "metadata": {},
     "output_type": "execute_result"
    }
   ],
   "source": [
    "df.pdays.describe()"
   ]
  },
  {
   "cell_type": "code",
   "execution_count": 11,
   "id": "5266daa0",
   "metadata": {},
   "outputs": [
    {
     "name": "stdout",
     "output_type": "stream",
     "text": [
      "mean is 40.19782796222158\n",
      "median is -1.0\n",
      "min is -1\n"
     ]
    }
   ],
   "source": [
    "print('mean is',df['pdays'].mean())\n",
    "print('median is',df['pdays'].median())\n",
    "print('min is',df['pdays'].min())"
   ]
  },
  {
   "cell_type": "code",
   "execution_count": 12,
   "id": "86825b18",
   "metadata": {},
   "outputs": [],
   "source": [
    "# here we can see numerical summary of mean and std. but we can see lots of value are -1,We can see that 75% values\n",
    "# of pdays are -1.so -1 are special number of previous compaign."
   ]
  },
  {
   "cell_type": "markdown",
   "id": "cf35067f",
   "metadata": {},
   "source": [
    "### Describe the pdays column again, this time limiting yourself to the relevant values of pdays. How\n",
    "### different are the mean and the median values?"
   ]
  },
  {
   "cell_type": "code",
   "execution_count": 13,
   "id": "e72bdd2f",
   "metadata": {},
   "outputs": [],
   "source": [
    "# here we can see pdays uses -1 as indicator and not value. Hence treat these value as missing\n",
    "# Wherever pdays is -1, replace with NaN"
   ]
  },
  {
   "cell_type": "code",
   "execution_count": 14,
   "id": "60a6f2d1",
   "metadata": {},
   "outputs": [],
   "source": [
    "df1 = df.copy()"
   ]
  },
  {
   "cell_type": "code",
   "execution_count": 15,
   "id": "ab17dbc6",
   "metadata": {},
   "outputs": [],
   "source": [
    "df1.drop(df1[df1['pdays'] < 0].index, inplace = True)"
   ]
  },
  {
   "cell_type": "code",
   "execution_count": 16,
   "id": "3ab24e85",
   "metadata": {},
   "outputs": [
    {
     "data": {
      "text/plain": [
       "count    8257.000000\n",
       "mean      224.577692\n",
       "std       115.344035\n",
       "min         1.000000\n",
       "25%       133.000000\n",
       "50%       194.000000\n",
       "75%       327.000000\n",
       "max       871.000000\n",
       "Name: pdays, dtype: float64"
      ]
     },
     "execution_count": 16,
     "metadata": {},
     "output_type": "execute_result"
    }
   ],
   "source": [
    "df1.pdays.describe()"
   ]
  },
  {
   "cell_type": "code",
   "execution_count": 17,
   "id": "eae2c1f0",
   "metadata": {},
   "outputs": [],
   "source": [
    "# This time mean and median has changed significantly because we have removed the case where pdays value is -1"
   ]
  },
  {
   "cell_type": "markdown",
   "id": "29fa7683",
   "metadata": {},
   "source": [
    "### Plot a horizontal bar graph with the median values of balance for each education level value.\n",
    "### Which group has the highest median?"
   ]
  },
  {
   "cell_type": "code",
   "execution_count": 18,
   "id": "7627524d",
   "metadata": {},
   "outputs": [
    {
     "data": {
      "image/png": "[encoded data removed]",
      "text/plain": [
       "<Figure size 432x288 with 1 Axes>"
      ]
     },
     "metadata": {
      "needs_background": "light"
     },
     "output_type": "display_data"
    },
    {
     "name": "stdout",
     "output_type": "stream",
     "text": [
      "unknown has highest median 782\n"
     ]
    }
   ],
   "source": [
    "df2 = df1.groupby(['education'])['balance'].median()\n",
    "df2.plot(kind = 'barh')\n",
    "plt.show()\n",
    "print('unknown has highest median', df2.max())"
   ]
  },
  {
   "cell_type": "markdown",
   "id": "6160aed2",
   "metadata": {},
   "source": [
    "### Make a box plot for pdays. Do you see any outliers?"
   ]
  },
  {
   "cell_type": "code",
   "execution_count": 19,
   "id": "78621548",
   "metadata": {},
   "outputs": [
    {
     "data": {
      "image/png": "[encoded data removed]",
      "text/plain": [
       "<Figure size 432x288 with 1 Axes>"
      ]
     },
     "metadata": {
      "needs_background": "light"
     },
     "output_type": "display_data"
    },
    {
     "name": "stdout",
     "output_type": "stream",
     "text": [
      "Boxplot without -1 pdays\n"
     ]
    }
   ],
   "source": [
    "sns.boxplot(df1['pdays'])\n",
    "plt.show()\n",
    "print('Boxplot without -1 pdays')"
   ]
  },
  {
   "cell_type": "code",
   "execution_count": 20,
   "id": "c6041dea",
   "metadata": {},
   "outputs": [],
   "source": [
    "# handling the outlier"
   ]
  },
  {
   "cell_type": "code",
   "execution_count": 21,
   "id": "59ca225b",
   "metadata": {},
   "outputs": [
    {
     "data": {
      "image/png": "[encoded data removed]",
      "text/plain": [
       "<Figure size 432x288 with 1 Axes>"
      ]
     },
     "metadata": {
      "needs_background": "light"
     },
     "output_type": "display_data"
    },
    {
     "name": "stdout",
     "output_type": "stream",
     "text": [
      "boxplot with no outlier\n"
     ]
    }
   ],
   "source": [
    "df2 = df1[df1['pdays'] >= 600] \n",
    "df1 = df1.drop(df2.index, axis = 0)\n",
    "sns.boxplot(df1['pdays'])\n",
    "plt.show()\n",
    "\n",
    "print(\"boxplot with no outlier\")"
   ]
  },
  {
   "cell_type": "markdown",
   "id": "2c366cbd",
   "metadata": {},
   "source": [
    "### The final goal is to make a predictive model to predict if the customer will respond positively to the\n",
    "### campaign or not. The target variable is “response”."
   ]
  },
  {
   "cell_type": "code",
   "execution_count": 22,
   "id": "61848fa8",
   "metadata": {},
   "outputs": [],
   "source": [
    "# bi-variate analysis"
   ]
  },
  {
   "cell_type": "markdown",
   "id": "5f042cb6",
   "metadata": {},
   "source": [
    "### Convert the response variable to a convenient form"
   ]
  },
  {
   "cell_type": "code",
   "execution_count": 23,
   "id": "9fbda8cd",
   "metadata": {},
   "outputs": [
    {
     "data": {
      "text/plain": [
       "no     6319\n",
       "yes    1886\n",
       "Name: response, dtype: int64"
      ]
     },
     "execution_count": 23,
     "metadata": {},
     "output_type": "execute_result"
    }
   ],
   "source": [
    "df1.response.value_counts()"
   ]
  },
  {
   "cell_type": "code",
   "execution_count": 24,
   "id": "1f083d72",
   "metadata": {},
   "outputs": [],
   "source": [
    "df1.replace({'response':{'yes':1, 'no':0}}, inplace = True)"
   ]
  },
  {
   "cell_type": "code",
   "execution_count": 25,
   "id": "9a7be7ca",
   "metadata": {},
   "outputs": [
    {
     "data": {
      "text/plain": [
       "0    6319\n",
       "1    1886\n",
       "Name: response, dtype: int64"
      ]
     },
     "execution_count": 25,
     "metadata": {},
     "output_type": "execute_result"
    }
   ],
   "source": [
    "df1.response.value_counts()"
   ]
  },
  {
   "cell_type": "code",
   "execution_count": 26,
   "id": "9968ef25",
   "metadata": {},
   "outputs": [
    {
     "data": {
      "text/html": [
       "<div>\n",
       "<style scoped>\n",
       "    .dataframe tbody tr th:only-of-type {\n",
       "        vertical-align: middle;\n",
       "    }\n",
       "\n",
       "    .dataframe tbody tr th {\n",
       "        vertical-align: top;\n",
       "    }\n",
       "\n",
       "    .dataframe thead th {\n",
       "        text-align: right;\n",
       "    }\n",
       "</style>\n",
       "<table border=\"1\" class=\"dataframe\">\n",
       "  <thead>\n",
       "    <tr style=\"text-align: right;\">\n",
       "      <th></th>\n",
       "      <th>age</th>\n",
       "      <th>job</th>\n",
       "      <th>salary</th>\n",
       "      <th>marital</th>\n",
       "      <th>education</th>\n",
       "      <th>targeted</th>\n",
       "      <th>default</th>\n",
       "      <th>balance</th>\n",
       "      <th>housing</th>\n",
       "      <th>loan</th>\n",
       "      <th>contact</th>\n",
       "      <th>day</th>\n",
       "      <th>month</th>\n",
       "      <th>duration</th>\n",
       "      <th>campaign</th>\n",
       "      <th>pdays</th>\n",
       "      <th>previous</th>\n",
       "      <th>poutcome</th>\n",
       "      <th>response</th>\n",
       "    </tr>\n",
       "  </thead>\n",
       "  <tbody>\n",
       "    <tr>\n",
       "      <th>24060</th>\n",
       "      <td>33</td>\n",
       "      <td>admin.</td>\n",
       "      <td>50000</td>\n",
       "      <td>married</td>\n",
       "      <td>tertiary</td>\n",
       "      <td>yes</td>\n",
       "      <td>no</td>\n",
       "      <td>882</td>\n",
       "      <td>no</td>\n",
       "      <td>no</td>\n",
       "      <td>telephone</td>\n",
       "      <td>21</td>\n",
       "      <td>oct</td>\n",
       "      <td>39</td>\n",
       "      <td>1</td>\n",
       "      <td>151</td>\n",
       "      <td>3</td>\n",
       "      <td>failure</td>\n",
       "      <td>0</td>\n",
       "    </tr>\n",
       "    <tr>\n",
       "      <th>24062</th>\n",
       "      <td>42</td>\n",
       "      <td>admin.</td>\n",
       "      <td>50000</td>\n",
       "      <td>single</td>\n",
       "      <td>secondary</td>\n",
       "      <td>yes</td>\n",
       "      <td>no</td>\n",
       "      <td>-247</td>\n",
       "      <td>yes</td>\n",
       "      <td>yes</td>\n",
       "      <td>telephone</td>\n",
       "      <td>21</td>\n",
       "      <td>oct</td>\n",
       "      <td>519</td>\n",
       "      <td>1</td>\n",
       "      <td>166</td>\n",
       "      <td>1</td>\n",
       "      <td>other</td>\n",
       "      <td>1</td>\n",
       "    </tr>\n",
       "    <tr>\n",
       "      <th>24064</th>\n",
       "      <td>33</td>\n",
       "      <td>services</td>\n",
       "      <td>70000</td>\n",
       "      <td>married</td>\n",
       "      <td>secondary</td>\n",
       "      <td>yes</td>\n",
       "      <td>no</td>\n",
       "      <td>3444</td>\n",
       "      <td>yes</td>\n",
       "      <td>no</td>\n",
       "      <td>telephone</td>\n",
       "      <td>21</td>\n",
       "      <td>oct</td>\n",
       "      <td>144</td>\n",
       "      <td>1</td>\n",
       "      <td>91</td>\n",
       "      <td>4</td>\n",
       "      <td>failure</td>\n",
       "      <td>1</td>\n",
       "    </tr>\n",
       "    <tr>\n",
       "      <th>24072</th>\n",
       "      <td>36</td>\n",
       "      <td>management</td>\n",
       "      <td>100000</td>\n",
       "      <td>married</td>\n",
       "      <td>tertiary</td>\n",
       "      <td>yes</td>\n",
       "      <td>no</td>\n",
       "      <td>2415</td>\n",
       "      <td>yes</td>\n",
       "      <td>no</td>\n",
       "      <td>telephone</td>\n",
       "      <td>22</td>\n",
       "      <td>oct</td>\n",
       "      <td>73</td>\n",
       "      <td>1</td>\n",
       "      <td>86</td>\n",
       "      <td>4</td>\n",
       "      <td>other</td>\n",
       "      <td>0</td>\n",
       "    </tr>\n",
       "    <tr>\n",
       "      <th>24077</th>\n",
       "      <td>36</td>\n",
       "      <td>management</td>\n",
       "      <td>100000</td>\n",
       "      <td>married</td>\n",
       "      <td>tertiary</td>\n",
       "      <td>yes</td>\n",
       "      <td>no</td>\n",
       "      <td>0</td>\n",
       "      <td>yes</td>\n",
       "      <td>no</td>\n",
       "      <td>telephone</td>\n",
       "      <td>23</td>\n",
       "      <td>oct</td>\n",
       "      <td>140</td>\n",
       "      <td>1</td>\n",
       "      <td>143</td>\n",
       "      <td>3</td>\n",
       "      <td>failure</td>\n",
       "      <td>1</td>\n",
       "    </tr>\n",
       "  </tbody>\n",
       "</table>\n",
       "</div>"
      ],
      "text/plain": [
       "       age         job  salary  marital  education targeted default  balance  \\\n",
       "24060   33      admin.   50000  married   tertiary      yes      no      882   \n",
       "24062   42      admin.   50000   single  secondary      yes      no     -247   \n",
       "24064   33    services   70000  married  secondary      yes      no     3444   \n",
       "24072   36  management  100000  married   tertiary      yes      no     2415   \n",
       "24077   36  management  100000  married   tertiary      yes      no        0   \n",
       "\n",
       "      housing loan    contact  day month  duration  campaign  pdays  previous  \\\n",
       "24060      no   no  telephone   21   oct        39         1    151         3   \n",
       "24062     yes  yes  telephone   21   oct       519         1    166         1   \n",
       "24064     yes   no  telephone   21   oct       144         1     91         4   \n",
       "24072     yes   no  telephone   22   oct        73         1     86         4   \n",
       "24077     yes   no  telephone   23   oct       140         1    143         3   \n",
       "\n",
       "      poutcome  response  \n",
       "24060  failure         0  \n",
       "24062    other         1  \n",
       "24064  failure         1  \n",
       "24072    other         0  \n",
       "24077  failure         1  "
      ]
     },
     "execution_count": 26,
     "metadata": {},
     "output_type": "execute_result"
    }
   ],
   "source": [
    "df1.head()"
   ]
  },
  {
   "cell_type": "markdown",
   "id": "305c4165",
   "metadata": {},
   "source": [
    "\n",
    "\n",
    "\n",
    "\n",
    "\n",
    "\n",
    "\n",
    "\n",
    "\n",
    "\n",
    "\n",
    "### Make suitable plots for associations with numerical features and categorical features’\n"
   ]
  },
  {
   "cell_type": "code",
   "execution_count": 27,
   "id": "7ff3bce0",
   "metadata": {},
   "outputs": [],
   "source": [
    "# Identifying categorical and numerical columns"
   ]
  },
  {
   "cell_type": "code",
   "execution_count": 28,
   "id": "1fea2797",
   "metadata": {},
   "outputs": [
    {
     "name": "stdout",
     "output_type": "stream",
     "text": [
      "numerical columns\n",
      "['age', 'salary', 'balance', 'day', 'duration', 'campaign', 'pdays', 'previous', 'response']\n",
      "/ncategorical_columns\n",
      "['default', 'poutcome', 'targeted', 'housing', 'loan', 'education', 'month', 'job', 'contact', 'marital']\n"
     ]
    }
   ],
   "source": [
    "cols = df1.columns.to_list()\n",
    "num_cols = df1._get_numeric_data().columns.to_list()\n",
    "cat_cols = list(set(cols) - set(num_cols))\n",
    "\n",
    "print('numerical columns')\n",
    "print(num_cols)\n",
    "print('/ncategorical_columns')\n",
    "print(cat_cols)"
   ]
  },
  {
   "cell_type": "code",
   "execution_count": 29,
   "id": "3e972e5a",
   "metadata": {},
   "outputs": [],
   "source": [
    "\n",
    "\n",
    "# Visualizing Numerical Features with Response"
   ]
  },
  {
   "cell_type": "code",
   "execution_count": 30,
   "id": "e6ecb6af",
   "metadata": {},
   "outputs": [
    {
     "data": {
      "image/png": "[encoded data removed]",
      "text/plain": [
       "<Figure size 432x288 with 1 Axes>"
      ]
     },
     "metadata": {
      "needs_background": "light"
     },
     "output_type": "display_data"
    },
    {
     "data": {
      "image/png": "[encoded data removed]",
      "text/plain": [
       "<Figure size 432x288 with 1 Axes>"
      ]
     },
     "metadata": {
      "needs_background": "light"
     },
     "output_type": "display_data"
    },
    {
     "data": {
      "image/png": "[encoded data removed]",
      "text/plain": [
       "<Figure size 432x288 with 1 Axes>"
      ]
     },
     "metadata": {
      "needs_background": "light"
     },
     "output_type": "display_data"
    },
    {
     "data": {
      "image/png": "[encoded data removed]",
      "text/plain": [
       "<Figure size 432x288 with 1 Axes>"
      ]
     },
     "metadata": {
      "needs_background": "light"
     },
     "output_type": "display_data"
    },
    {
     "data": {
      "image/png": "[encoded data removed]",
      "text/plain": [
       "<Figure size 432x288 with 1 Axes>"
      ]
     },
     "metadata": {
      "needs_background": "light"
     },
     "output_type": "display_data"
    },
    {
     "data": {
      "image/png": "[encoded data removed]",
      "text/plain": [
       "<Figure size 432x288 with 1 Axes>"
      ]
     },
     "metadata": {
      "needs_background": "light"
     },
     "output_type": "display_data"
    },
    {
     "data": {
      "image/png": "[encoded data removed]",
      "text/plain": [
       "<Figure size 432x288 with 1 Axes>"
      ]
     },
     "metadata": {
      "needs_background": "light"
     },
     "output_type": "display_data"
    },
    {
     "data": {
      "image/png": "[encoded data removed]",
      "text/plain": [
       "<Figure size 432x288 with 1 Axes>"
      ]
     },
     "metadata": {
      "needs_background": "light"
     },
     "output_type": "display_data"
    },
    {
     "data": {
      "image/png": "[encoded data removed]",
      "text/plain": [
       "<Figure size 432x288 with 1 Axes>"
      ]
     },
     "metadata": {
      "needs_background": "light"
     },
     "output_type": "display_data"
    }
   ],
   "source": [
    "for i in df1[num_cols]:\n",
    "    sns.barplot(df1['response'], df1[i])\n",
    "    plt.show()"
   ]
  },
  {
   "cell_type": "code",
   "execution_count": 31,
   "id": "5fd81327",
   "metadata": {},
   "outputs": [],
   "source": [
    "# Visualizing Categorical Features with Response"
   ]
  },
  {
   "cell_type": "code",
   "execution_count": 32,
   "id": "3a8b71d3",
   "metadata": {},
   "outputs": [
    {
     "data": {
      "image/png": "[encoded data removed]",
      "text/plain": [
       "<Figure size 432x288 with 1 Axes>"
      ]
     },
     "metadata": {
      "needs_background": "light"
     },
     "output_type": "display_data"
    },
    {
     "data": {
      "image/png": "[encoded data removed]",
      "text/plain": [
       "<Figure size 432x288 with 1 Axes>"
      ]
     },
     "metadata": {
      "needs_background": "light"
     },
     "output_type": "display_data"
    },
    {
     "data": {
      "image/png": "[encoded data removed]",
      "text/plain": [
       "<Figure size 432x288 with 1 Axes>"
      ]
     },
     "metadata": {
      "needs_background": "light"
     },
     "output_type": "display_data"
    },
    {
     "data": {
      "image/png": "[encoded data removed]",
      "text/plain": [
       "<Figure size 432x288 with 1 Axes>"
      ]
     },
     "metadata": {
      "needs_background": "light"
     },
     "output_type": "display_data"
    },
    {
     "data": {
      "image/png": "[encoded data removed]",
      "text/plain": [
       "<Figure size 432x288 with 1 Axes>"
      ]
     },
     "metadata": {
      "needs_background": "light"
     },
     "output_type": "display_data"
    },
    {
     "data": {
      "image/png": "[encoded data removed]",
      "text/plain": [
       "<Figure size 432x288 with 1 Axes>"
      ]
     },
     "metadata": {
      "needs_background": "light"
     },
     "output_type": "display_data"
    },
    {
     "data": {
      "image/png": "[encoded data removed]",
      "text/plain": [
       "<Figure size 432x288 with 1 Axes>"
      ]
     },
     "metadata": {
      "needs_background": "light"
     },
     "output_type": "display_data"
    },
    {
     "data": {
      "image/png": "[encoded data removed]",
      "text/plain": [
       "<Figure size 432x288 with 1 Axes>"
      ]
     },
     "metadata": {
      "needs_background": "light"
     },
     "output_type": "display_data"
    },
    {
     "data": {
      "image/png": "[encoded data removed]",
      "text/plain": [
       "<Figure size 432x288 with 1 Axes>"
      ]
     },
     "metadata": {
      "needs_background": "light"
     },
     "output_type": "display_data"
    },
    {
     "data": {
      "image/png": "[encoded data removed]",
      "text/plain": [
       "<Figure size 432x288 with 1 Axes>"
      ]
     },
     "metadata": {
      "needs_background": "light"
     },
     "output_type": "display_data"
    }
   ],
   "source": [
    "for i in df1[cat_cols]:\n",
    "    sns.barplot(df1['response'], df1[i], hue= df1[i])\n",
    "    plt.legend(bbox_to_anchor = (1.01,.99),borderaxespad=0,loc=2)\n",
    "    plt.show()"
   ]
  },
  {
   "cell_type": "markdown",
   "id": "e5634cfc",
   "metadata": {},
   "source": [
    "###  * Yes previous campaign data is useful & pdays, poutcome is associated with the target variable 'response'"
   ]
  },
  {
   "cell_type": "markdown",
   "id": "899d13b0",
   "metadata": {},
   "source": [
    "\n",
    "### * The -1 pdays or missing values or outliers are filtered out as we would not be using that in Modelling."
   ]
  },
  {
   "cell_type": "markdown",
   "id": "7d77347a",
   "metadata": {},
   "source": [
    "### The necessary transformations for the categorical variables and the numeric variables ?"
   ]
  },
  {
   "cell_type": "code",
   "execution_count": 33,
   "id": "0b9cfe42",
   "metadata": {},
   "outputs": [],
   "source": [
    "from sklearn.preprocessing import LabelEncoder"
   ]
  },
  {
   "cell_type": "code",
   "execution_count": 34,
   "id": "49d12f2d",
   "metadata": {},
   "outputs": [],
   "source": [
    "df2 = df1[cat_cols].apply(LabelEncoder().fit_transform)"
   ]
  },
  {
   "cell_type": "code",
   "execution_count": 35,
   "id": "bee46137",
   "metadata": {},
   "outputs": [
    {
     "data": {
      "text/html": [
       "<div>\n",
       "<style scoped>\n",
       "    .dataframe tbody tr th:only-of-type {\n",
       "        vertical-align: middle;\n",
       "    }\n",
       "\n",
       "    .dataframe tbody tr th {\n",
       "        vertical-align: top;\n",
       "    }\n",
       "\n",
       "    .dataframe thead th {\n",
       "        text-align: right;\n",
       "    }\n",
       "</style>\n",
       "<table border=\"1\" class=\"dataframe\">\n",
       "  <thead>\n",
       "    <tr style=\"text-align: right;\">\n",
       "      <th></th>\n",
       "      <th>default</th>\n",
       "      <th>poutcome</th>\n",
       "      <th>targeted</th>\n",
       "      <th>housing</th>\n",
       "      <th>loan</th>\n",
       "      <th>education</th>\n",
       "      <th>month</th>\n",
       "      <th>job</th>\n",
       "      <th>contact</th>\n",
       "      <th>marital</th>\n",
       "    </tr>\n",
       "  </thead>\n",
       "  <tbody>\n",
       "    <tr>\n",
       "      <th>24060</th>\n",
       "      <td>0</td>\n",
       "      <td>0</td>\n",
       "      <td>1</td>\n",
       "      <td>0</td>\n",
       "      <td>0</td>\n",
       "      <td>2</td>\n",
       "      <td>10</td>\n",
       "      <td>0</td>\n",
       "      <td>1</td>\n",
       "      <td>1</td>\n",
       "    </tr>\n",
       "    <tr>\n",
       "      <th>24062</th>\n",
       "      <td>0</td>\n",
       "      <td>1</td>\n",
       "      <td>1</td>\n",
       "      <td>1</td>\n",
       "      <td>1</td>\n",
       "      <td>1</td>\n",
       "      <td>10</td>\n",
       "      <td>0</td>\n",
       "      <td>1</td>\n",
       "      <td>2</td>\n",
       "    </tr>\n",
       "    <tr>\n",
       "      <th>24064</th>\n",
       "      <td>0</td>\n",
       "      <td>0</td>\n",
       "      <td>1</td>\n",
       "      <td>1</td>\n",
       "      <td>0</td>\n",
       "      <td>1</td>\n",
       "      <td>10</td>\n",
       "      <td>7</td>\n",
       "      <td>1</td>\n",
       "      <td>1</td>\n",
       "    </tr>\n",
       "    <tr>\n",
       "      <th>24072</th>\n",
       "      <td>0</td>\n",
       "      <td>1</td>\n",
       "      <td>1</td>\n",
       "      <td>1</td>\n",
       "      <td>0</td>\n",
       "      <td>2</td>\n",
       "      <td>10</td>\n",
       "      <td>4</td>\n",
       "      <td>1</td>\n",
       "      <td>1</td>\n",
       "    </tr>\n",
       "    <tr>\n",
       "      <th>24077</th>\n",
       "      <td>0</td>\n",
       "      <td>0</td>\n",
       "      <td>1</td>\n",
       "      <td>1</td>\n",
       "      <td>0</td>\n",
       "      <td>2</td>\n",
       "      <td>10</td>\n",
       "      <td>4</td>\n",
       "      <td>1</td>\n",
       "      <td>1</td>\n",
       "    </tr>\n",
       "  </tbody>\n",
       "</table>\n",
       "</div>"
      ],
      "text/plain": [
       "       default  poutcome  targeted  housing  loan  education  month  job  \\\n",
       "24060        0         0         1        0     0          2     10    0   \n",
       "24062        0         1         1        1     1          1     10    0   \n",
       "24064        0         0         1        1     0          1     10    7   \n",
       "24072        0         1         1        1     0          2     10    4   \n",
       "24077        0         0         1        1     0          2     10    4   \n",
       "\n",
       "       contact  marital  \n",
       "24060        1        1  \n",
       "24062        1        2  \n",
       "24064        1        1  \n",
       "24072        1        1  \n",
       "24077        1        1  "
      ]
     },
     "execution_count": 35,
     "metadata": {},
     "output_type": "execute_result"
    }
   ],
   "source": [
    "df2.head()"
   ]
  },
  {
   "cell_type": "markdown",
   "id": "0ececd4c",
   "metadata": {},
   "source": [
    "### Handle variables corresponding to the previous campaign ?"
   ]
  },
  {
   "cell_type": "code",
   "execution_count": 36,
   "id": "e162e796",
   "metadata": {},
   "outputs": [],
   "source": [
    "df3 = df2.join(df1[num_cols])"
   ]
  },
  {
   "cell_type": "code",
   "execution_count": 37,
   "id": "458b1b1a",
   "metadata": {},
   "outputs": [
    {
     "data": {
      "text/html": [
       "<div>\n",
       "<style scoped>\n",
       "    .dataframe tbody tr th:only-of-type {\n",
       "        vertical-align: middle;\n",
       "    }\n",
       "\n",
       "    .dataframe tbody tr th {\n",
       "        vertical-align: top;\n",
       "    }\n",
       "\n",
       "    .dataframe thead th {\n",
       "        text-align: right;\n",
       "    }\n",
       "</style>\n",
       "<table border=\"1\" class=\"dataframe\">\n",
       "  <thead>\n",
       "    <tr style=\"text-align: right;\">\n",
       "      <th></th>\n",
       "      <th>default</th>\n",
       "      <th>poutcome</th>\n",
       "      <th>targeted</th>\n",
       "      <th>housing</th>\n",
       "      <th>loan</th>\n",
       "      <th>education</th>\n",
       "      <th>month</th>\n",
       "      <th>job</th>\n",
       "      <th>contact</th>\n",
       "      <th>marital</th>\n",
       "      <th>age</th>\n",
       "      <th>salary</th>\n",
       "      <th>balance</th>\n",
       "      <th>day</th>\n",
       "      <th>duration</th>\n",
       "      <th>campaign</th>\n",
       "      <th>pdays</th>\n",
       "      <th>previous</th>\n",
       "      <th>response</th>\n",
       "    </tr>\n",
       "  </thead>\n",
       "  <tbody>\n",
       "    <tr>\n",
       "      <th>24060</th>\n",
       "      <td>0</td>\n",
       "      <td>0</td>\n",
       "      <td>1</td>\n",
       "      <td>0</td>\n",
       "      <td>0</td>\n",
       "      <td>2</td>\n",
       "      <td>10</td>\n",
       "      <td>0</td>\n",
       "      <td>1</td>\n",
       "      <td>1</td>\n",
       "      <td>33</td>\n",
       "      <td>50000</td>\n",
       "      <td>882</td>\n",
       "      <td>21</td>\n",
       "      <td>39</td>\n",
       "      <td>1</td>\n",
       "      <td>151</td>\n",
       "      <td>3</td>\n",
       "      <td>0</td>\n",
       "    </tr>\n",
       "    <tr>\n",
       "      <th>24062</th>\n",
       "      <td>0</td>\n",
       "      <td>1</td>\n",
       "      <td>1</td>\n",
       "      <td>1</td>\n",
       "      <td>1</td>\n",
       "      <td>1</td>\n",
       "      <td>10</td>\n",
       "      <td>0</td>\n",
       "      <td>1</td>\n",
       "      <td>2</td>\n",
       "      <td>42</td>\n",
       "      <td>50000</td>\n",
       "      <td>-247</td>\n",
       "      <td>21</td>\n",
       "      <td>519</td>\n",
       "      <td>1</td>\n",
       "      <td>166</td>\n",
       "      <td>1</td>\n",
       "      <td>1</td>\n",
       "    </tr>\n",
       "    <tr>\n",
       "      <th>24064</th>\n",
       "      <td>0</td>\n",
       "      <td>0</td>\n",
       "      <td>1</td>\n",
       "      <td>1</td>\n",
       "      <td>0</td>\n",
       "      <td>1</td>\n",
       "      <td>10</td>\n",
       "      <td>7</td>\n",
       "      <td>1</td>\n",
       "      <td>1</td>\n",
       "      <td>33</td>\n",
       "      <td>70000</td>\n",
       "      <td>3444</td>\n",
       "      <td>21</td>\n",
       "      <td>144</td>\n",
       "      <td>1</td>\n",
       "      <td>91</td>\n",
       "      <td>4</td>\n",
       "      <td>1</td>\n",
       "    </tr>\n",
       "    <tr>\n",
       "      <th>24072</th>\n",
       "      <td>0</td>\n",
       "      <td>1</td>\n",
       "      <td>1</td>\n",
       "      <td>1</td>\n",
       "      <td>0</td>\n",
       "      <td>2</td>\n",
       "      <td>10</td>\n",
       "      <td>4</td>\n",
       "      <td>1</td>\n",
       "      <td>1</td>\n",
       "      <td>36</td>\n",
       "      <td>100000</td>\n",
       "      <td>2415</td>\n",
       "      <td>22</td>\n",
       "      <td>73</td>\n",
       "      <td>1</td>\n",
       "      <td>86</td>\n",
       "      <td>4</td>\n",
       "      <td>0</td>\n",
       "    </tr>\n",
       "    <tr>\n",
       "      <th>24077</th>\n",
       "      <td>0</td>\n",
       "      <td>0</td>\n",
       "      <td>1</td>\n",
       "      <td>1</td>\n",
       "      <td>0</td>\n",
       "      <td>2</td>\n",
       "      <td>10</td>\n",
       "      <td>4</td>\n",
       "      <td>1</td>\n",
       "      <td>1</td>\n",
       "      <td>36</td>\n",
       "      <td>100000</td>\n",
       "      <td>0</td>\n",
       "      <td>23</td>\n",
       "      <td>140</td>\n",
       "      <td>1</td>\n",
       "      <td>143</td>\n",
       "      <td>3</td>\n",
       "      <td>1</td>\n",
       "    </tr>\n",
       "  </tbody>\n",
       "</table>\n",
       "</div>"
      ],
      "text/plain": [
       "       default  poutcome  targeted  housing  loan  education  month  job  \\\n",
       "24060        0         0         1        0     0          2     10    0   \n",
       "24062        0         1         1        1     1          1     10    0   \n",
       "24064        0         0         1        1     0          1     10    7   \n",
       "24072        0         1         1        1     0          2     10    4   \n",
       "24077        0         0         1        1     0          2     10    4   \n",
       "\n",
       "       contact  marital  age  salary  balance  day  duration  campaign  pdays  \\\n",
       "24060        1        1   33   50000      882   21        39         1    151   \n",
       "24062        1        2   42   50000     -247   21       519         1    166   \n",
       "24064        1        1   33   70000     3444   21       144         1     91   \n",
       "24072        1        1   36  100000     2415   22        73         1     86   \n",
       "24077        1        1   36  100000        0   23       140         1    143   \n",
       "\n",
       "       previous  response  \n",
       "24060         3         0  \n",
       "24062         1         1  \n",
       "24064         4         1  \n",
       "24072         4         0  \n",
       "24077         3         1  "
      ]
     },
     "execution_count": 37,
     "metadata": {},
     "output_type": "execute_result"
    }
   ],
   "source": [
    "df3.head()"
   ]
  },
  {
   "cell_type": "code",
   "execution_count": 38,
   "id": "42b62088",
   "metadata": {},
   "outputs": [
    {
     "data": {
      "text/html": [
       "<div>\n",
       "<style scoped>\n",
       "    .dataframe tbody tr th:only-of-type {\n",
       "        vertical-align: middle;\n",
       "    }\n",
       "\n",
       "    .dataframe tbody tr th {\n",
       "        vertical-align: top;\n",
       "    }\n",
       "\n",
       "    .dataframe thead th {\n",
       "        text-align: right;\n",
       "    }\n",
       "</style>\n",
       "<table border=\"1\" class=\"dataframe\">\n",
       "  <thead>\n",
       "    <tr style=\"text-align: right;\">\n",
       "      <th></th>\n",
       "      <th>default</th>\n",
       "      <th>poutcome</th>\n",
       "      <th>targeted</th>\n",
       "      <th>housing</th>\n",
       "      <th>loan</th>\n",
       "      <th>education</th>\n",
       "      <th>month</th>\n",
       "      <th>job</th>\n",
       "      <th>contact</th>\n",
       "      <th>marital</th>\n",
       "      <th>age</th>\n",
       "      <th>salary</th>\n",
       "      <th>balance</th>\n",
       "      <th>day</th>\n",
       "      <th>duration</th>\n",
       "      <th>campaign</th>\n",
       "      <th>pdays</th>\n",
       "      <th>previous</th>\n",
       "      <th>response</th>\n",
       "    </tr>\n",
       "  </thead>\n",
       "  <tbody>\n",
       "    <tr>\n",
       "      <th>default</th>\n",
       "      <td>1.000000</td>\n",
       "      <td>-0.025767</td>\n",
       "      <td>0.019620</td>\n",
       "      <td>0.022611</td>\n",
       "      <td>0.052473</td>\n",
       "      <td>-0.013600</td>\n",
       "      <td>0.020435</td>\n",
       "      <td>-0.021111</td>\n",
       "      <td>-0.019521</td>\n",
       "      <td>-0.005753</td>\n",
       "      <td>-0.027905</td>\n",
       "      <td>0.000392</td>\n",
       "      <td>-0.045128</td>\n",
       "      <td>-0.000964</td>\n",
       "      <td>-0.002728</td>\n",
       "      <td>-0.002308</td>\n",
       "      <td>0.038702</td>\n",
       "      <td>0.012505</td>\n",
       "      <td>-0.028256</td>\n",
       "    </tr>\n",
       "    <tr>\n",
       "      <th>poutcome</th>\n",
       "      <td>-0.025767</td>\n",
       "      <td>1.000000</td>\n",
       "      <td>-0.071648</td>\n",
       "      <td>-0.287046</td>\n",
       "      <td>-0.103648</td>\n",
       "      <td>0.083959</td>\n",
       "      <td>-0.018198</td>\n",
       "      <td>0.066452</td>\n",
       "      <td>0.024316</td>\n",
       "      <td>0.045484</td>\n",
       "      <td>0.052255</td>\n",
       "      <td>0.013536</td>\n",
       "      <td>0.051497</td>\n",
       "      <td>0.016912</td>\n",
       "      <td>0.110449</td>\n",
       "      <td>-0.001180</td>\n",
       "      <td>-0.243675</td>\n",
       "      <td>0.042900</td>\n",
       "      <td>0.425229</td>\n",
       "    </tr>\n",
       "    <tr>\n",
       "      <th>targeted</th>\n",
       "      <td>0.019620</td>\n",
       "      <td>-0.071648</td>\n",
       "      <td>1.000000</td>\n",
       "      <td>0.086574</td>\n",
       "      <td>0.070190</td>\n",
       "      <td>-0.632761</td>\n",
       "      <td>0.011374</td>\n",
       "      <td>-0.091083</td>\n",
       "      <td>0.024672</td>\n",
       "      <td>-0.255486</td>\n",
       "      <td>0.141069</td>\n",
       "      <td>-0.227927</td>\n",
       "      <td>-0.052601</td>\n",
       "      <td>-0.025070</td>\n",
       "      <td>-0.016042</td>\n",
       "      <td>0.017189</td>\n",
       "      <td>0.084503</td>\n",
       "      <td>-0.002387</td>\n",
       "      <td>-0.092791</td>\n",
       "    </tr>\n",
       "    <tr>\n",
       "      <th>housing</th>\n",
       "      <td>0.022611</td>\n",
       "      <td>-0.287046</td>\n",
       "      <td>0.086574</td>\n",
       "      <td>1.000000</td>\n",
       "      <td>0.112240</td>\n",
       "      <td>-0.127906</td>\n",
       "      <td>0.017032</td>\n",
       "      <td>-0.132182</td>\n",
       "      <td>-0.072051</td>\n",
       "      <td>-0.056352</td>\n",
       "      <td>-0.179517</td>\n",
       "      <td>-0.034703</td>\n",
       "      <td>-0.109598</td>\n",
       "      <td>-0.067401</td>\n",
       "      <td>-0.072505</td>\n",
       "      <td>0.062326</td>\n",
       "      <td>0.365964</td>\n",
       "      <td>0.007706</td>\n",
       "      <td>-0.320280</td>\n",
       "    </tr>\n",
       "    <tr>\n",
       "      <th>loan</th>\n",
       "      <td>0.052473</td>\n",
       "      <td>-0.103648</td>\n",
       "      <td>0.070190</td>\n",
       "      <td>0.112240</td>\n",
       "      <td>1.000000</td>\n",
       "      <td>-0.048812</td>\n",
       "      <td>-0.000715</td>\n",
       "      <td>-0.033795</td>\n",
       "      <td>-0.028964</td>\n",
       "      <td>-0.055374</td>\n",
       "      <td>-0.009009</td>\n",
       "      <td>0.014393</td>\n",
       "      <td>-0.084921</td>\n",
       "      <td>0.008988</td>\n",
       "      <td>-0.032730</td>\n",
       "      <td>0.008033</td>\n",
       "      <td>0.022819</td>\n",
       "      <td>0.013683</td>\n",
       "      <td>-0.115212</td>\n",
       "    </tr>\n",
       "    <tr>\n",
       "      <th>education</th>\n",
       "      <td>-0.013600</td>\n",
       "      <td>0.083959</td>\n",
       "      <td>-0.632761</td>\n",
       "      <td>-0.127906</td>\n",
       "      <td>-0.048812</td>\n",
       "      <td>1.000000</td>\n",
       "      <td>-0.012213</td>\n",
       "      <td>0.159377</td>\n",
       "      <td>-0.050515</td>\n",
       "      <td>0.122070</td>\n",
       "      <td>-0.120713</td>\n",
       "      <td>0.422500</td>\n",
       "      <td>0.074225</td>\n",
       "      <td>0.023110</td>\n",
       "      <td>-0.001378</td>\n",
       "      <td>-0.024108</td>\n",
       "      <td>-0.157076</td>\n",
       "      <td>0.000963</td>\n",
       "      <td>0.108581</td>\n",
       "    </tr>\n",
       "    <tr>\n",
       "      <th>month</th>\n",
       "      <td>0.020435</td>\n",
       "      <td>-0.018198</td>\n",
       "      <td>0.011374</td>\n",
       "      <td>0.017032</td>\n",
       "      <td>-0.000715</td>\n",
       "      <td>-0.012213</td>\n",
       "      <td>1.000000</td>\n",
       "      <td>-0.002806</td>\n",
       "      <td>0.041944</td>\n",
       "      <td>-0.024663</td>\n",
       "      <td>0.014876</td>\n",
       "      <td>0.018868</td>\n",
       "      <td>0.016244</td>\n",
       "      <td>-0.024655</td>\n",
       "      <td>-0.034737</td>\n",
       "      <td>0.024708</td>\n",
       "      <td>0.010131</td>\n",
       "      <td>0.012016</td>\n",
       "      <td>-0.009015</td>\n",
       "    </tr>\n",
       "    <tr>\n",
       "      <th>job</th>\n",
       "      <td>-0.021111</td>\n",
       "      <td>0.066452</td>\n",
       "      <td>-0.091083</td>\n",
       "      <td>-0.132182</td>\n",
       "      <td>-0.033795</td>\n",
       "      <td>0.159377</td>\n",
       "      <td>-0.002806</td>\n",
       "      <td>1.000000</td>\n",
       "      <td>0.000723</td>\n",
       "      <td>0.072865</td>\n",
       "      <td>-0.020727</td>\n",
       "      <td>0.115646</td>\n",
       "      <td>0.041900</td>\n",
       "      <td>0.014952</td>\n",
       "      <td>0.023745</td>\n",
       "      <td>-0.009013</td>\n",
       "      <td>-0.116824</td>\n",
       "      <td>-0.000903</td>\n",
       "      <td>0.079660</td>\n",
       "    </tr>\n",
       "    <tr>\n",
       "      <th>contact</th>\n",
       "      <td>-0.019521</td>\n",
       "      <td>0.024316</td>\n",
       "      <td>0.024672</td>\n",
       "      <td>-0.072051</td>\n",
       "      <td>-0.028964</td>\n",
       "      <td>-0.050515</td>\n",
       "      <td>0.041944</td>\n",
       "      <td>0.000723</td>\n",
       "      <td>1.000000</td>\n",
       "      <td>-0.028908</td>\n",
       "      <td>0.175935</td>\n",
       "      <td>-0.035471</td>\n",
       "      <td>0.038262</td>\n",
       "      <td>-0.012872</td>\n",
       "      <td>-0.023321</td>\n",
       "      <td>0.077261</td>\n",
       "      <td>0.012072</td>\n",
       "      <td>0.037374</td>\n",
       "      <td>-0.007714</td>\n",
       "    </tr>\n",
       "    <tr>\n",
       "      <th>marital</th>\n",
       "      <td>-0.005753</td>\n",
       "      <td>0.045484</td>\n",
       "      <td>-0.255486</td>\n",
       "      <td>-0.056352</td>\n",
       "      <td>-0.055374</td>\n",
       "      <td>0.122070</td>\n",
       "      <td>-0.024663</td>\n",
       "      <td>0.072865</td>\n",
       "      <td>-0.028908</td>\n",
       "      <td>1.000000</td>\n",
       "      <td>-0.415511</td>\n",
       "      <td>-0.043422</td>\n",
       "      <td>-0.020178</td>\n",
       "      <td>0.016389</td>\n",
       "      <td>-0.009392</td>\n",
       "      <td>-0.008772</td>\n",
       "      <td>-0.006392</td>\n",
       "      <td>0.005519</td>\n",
       "      <td>0.049751</td>\n",
       "    </tr>\n",
       "    <tr>\n",
       "      <th>age</th>\n",
       "      <td>-0.027905</td>\n",
       "      <td>0.052255</td>\n",
       "      <td>0.141069</td>\n",
       "      <td>-0.179517</td>\n",
       "      <td>-0.009009</td>\n",
       "      <td>-0.120713</td>\n",
       "      <td>0.014876</td>\n",
       "      <td>-0.020727</td>\n",
       "      <td>0.175935</td>\n",
       "      <td>-0.415511</td>\n",
       "      <td>1.000000</td>\n",
       "      <td>0.058856</td>\n",
       "      <td>0.115253</td>\n",
       "      <td>0.020092</td>\n",
       "      <td>0.060406</td>\n",
       "      <td>0.003632</td>\n",
       "      <td>-0.114029</td>\n",
       "      <td>0.004505</td>\n",
       "      <td>0.072784</td>\n",
       "    </tr>\n",
       "    <tr>\n",
       "      <th>salary</th>\n",
       "      <td>0.000392</td>\n",
       "      <td>0.013536</td>\n",
       "      <td>-0.227927</td>\n",
       "      <td>-0.034703</td>\n",
       "      <td>0.014393</td>\n",
       "      <td>0.422500</td>\n",
       "      <td>0.018868</td>\n",
       "      <td>0.115646</td>\n",
       "      <td>-0.035471</td>\n",
       "      <td>-0.043422</td>\n",
       "      <td>0.058856</td>\n",
       "      <td>1.000000</td>\n",
       "      <td>0.065883</td>\n",
       "      <td>0.001966</td>\n",
       "      <td>0.005802</td>\n",
       "      <td>-0.018930</td>\n",
       "      <td>-0.115426</td>\n",
       "      <td>0.030139</td>\n",
       "      <td>0.038064</td>\n",
       "    </tr>\n",
       "    <tr>\n",
       "      <th>balance</th>\n",
       "      <td>-0.045128</td>\n",
       "      <td>0.051497</td>\n",
       "      <td>-0.052601</td>\n",
       "      <td>-0.109598</td>\n",
       "      <td>-0.084921</td>\n",
       "      <td>0.074225</td>\n",
       "      <td>0.016244</td>\n",
       "      <td>0.041900</td>\n",
       "      <td>0.038262</td>\n",
       "      <td>-0.020178</td>\n",
       "      <td>0.115253</td>\n",
       "      <td>0.065883</td>\n",
       "      <td>1.000000</td>\n",
       "      <td>0.051482</td>\n",
       "      <td>0.040301</td>\n",
       "      <td>-0.008873</td>\n",
       "      <td>-0.110719</td>\n",
       "      <td>0.002707</td>\n",
       "      <td>0.077127</td>\n",
       "    </tr>\n",
       "    <tr>\n",
       "      <th>day</th>\n",
       "      <td>-0.000964</td>\n",
       "      <td>0.016912</td>\n",
       "      <td>-0.025070</td>\n",
       "      <td>-0.067401</td>\n",
       "      <td>0.008988</td>\n",
       "      <td>0.023110</td>\n",
       "      <td>-0.024655</td>\n",
       "      <td>0.014952</td>\n",
       "      <td>-0.012872</td>\n",
       "      <td>0.016389</td>\n",
       "      <td>0.020092</td>\n",
       "      <td>0.001966</td>\n",
       "      <td>0.051482</td>\n",
       "      <td>1.000000</td>\n",
       "      <td>-0.013321</td>\n",
       "      <td>-0.029450</td>\n",
       "      <td>-0.099897</td>\n",
       "      <td>-0.015200</td>\n",
       "      <td>0.030070</td>\n",
       "    </tr>\n",
       "    <tr>\n",
       "      <th>duration</th>\n",
       "      <td>-0.002728</td>\n",
       "      <td>0.110449</td>\n",
       "      <td>-0.016042</td>\n",
       "      <td>-0.072505</td>\n",
       "      <td>-0.032730</td>\n",
       "      <td>-0.001378</td>\n",
       "      <td>-0.034737</td>\n",
       "      <td>0.023745</td>\n",
       "      <td>-0.023321</td>\n",
       "      <td>-0.009392</td>\n",
       "      <td>0.060406</td>\n",
       "      <td>0.005802</td>\n",
       "      <td>0.040301</td>\n",
       "      <td>-0.013321</td>\n",
       "      <td>1.000000</td>\n",
       "      <td>-0.089766</td>\n",
       "      <td>-0.020229</td>\n",
       "      <td>-0.001453</td>\n",
       "      <td>0.342049</td>\n",
       "    </tr>\n",
       "    <tr>\n",
       "      <th>campaign</th>\n",
       "      <td>-0.002308</td>\n",
       "      <td>-0.001180</td>\n",
       "      <td>0.017189</td>\n",
       "      <td>0.062326</td>\n",
       "      <td>0.008033</td>\n",
       "      <td>-0.024108</td>\n",
       "      <td>0.024708</td>\n",
       "      <td>-0.009013</td>\n",
       "      <td>0.077261</td>\n",
       "      <td>-0.008772</td>\n",
       "      <td>0.003632</td>\n",
       "      <td>-0.018930</td>\n",
       "      <td>-0.008873</td>\n",
       "      <td>-0.029450</td>\n",
       "      <td>-0.089766</td>\n",
       "      <td>1.000000</td>\n",
       "      <td>0.068036</td>\n",
       "      <td>0.137433</td>\n",
       "      <td>-0.094356</td>\n",
       "    </tr>\n",
       "    <tr>\n",
       "      <th>pdays</th>\n",
       "      <td>0.038702</td>\n",
       "      <td>-0.243675</td>\n",
       "      <td>0.084503</td>\n",
       "      <td>0.365964</td>\n",
       "      <td>0.022819</td>\n",
       "      <td>-0.157076</td>\n",
       "      <td>0.010131</td>\n",
       "      <td>-0.116824</td>\n",
       "      <td>0.012072</td>\n",
       "      <td>-0.006392</td>\n",
       "      <td>-0.114029</td>\n",
       "      <td>-0.115426</td>\n",
       "      <td>-0.110719</td>\n",
       "      <td>-0.099897</td>\n",
       "      <td>-0.020229</td>\n",
       "      <td>0.068036</td>\n",
       "      <td>1.000000</td>\n",
       "      <td>-0.035643</td>\n",
       "      <td>-0.173773</td>\n",
       "    </tr>\n",
       "    <tr>\n",
       "      <th>previous</th>\n",
       "      <td>0.012505</td>\n",
       "      <td>0.042900</td>\n",
       "      <td>-0.002387</td>\n",
       "      <td>0.007706</td>\n",
       "      <td>0.013683</td>\n",
       "      <td>0.000963</td>\n",
       "      <td>0.012016</td>\n",
       "      <td>-0.000903</td>\n",
       "      <td>0.037374</td>\n",
       "      <td>0.005519</td>\n",
       "      <td>0.004505</td>\n",
       "      <td>0.030139</td>\n",
       "      <td>0.002707</td>\n",
       "      <td>-0.015200</td>\n",
       "      <td>-0.001453</td>\n",
       "      <td>0.137433</td>\n",
       "      <td>-0.035643</td>\n",
       "      <td>1.000000</td>\n",
       "      <td>0.008075</td>\n",
       "    </tr>\n",
       "    <tr>\n",
       "      <th>response</th>\n",
       "      <td>-0.028256</td>\n",
       "      <td>0.425229</td>\n",
       "      <td>-0.092791</td>\n",
       "      <td>-0.320280</td>\n",
       "      <td>-0.115212</td>\n",
       "      <td>0.108581</td>\n",
       "      <td>-0.009015</td>\n",
       "      <td>0.079660</td>\n",
       "      <td>-0.007714</td>\n",
       "      <td>0.049751</td>\n",
       "      <td>0.072784</td>\n",
       "      <td>0.038064</td>\n",
       "      <td>0.077127</td>\n",
       "      <td>0.030070</td>\n",
       "      <td>0.342049</td>\n",
       "      <td>-0.094356</td>\n",
       "      <td>-0.173773</td>\n",
       "      <td>0.008075</td>\n",
       "      <td>1.000000</td>\n",
       "    </tr>\n",
       "  </tbody>\n",
       "</table>\n",
       "</div>"
      ],
      "text/plain": [
       "            default  poutcome  targeted   housing      loan  education  \\\n",
       "default    1.000000 -0.025767  0.019620  0.022611  0.052473  -0.013600   \n",
       "poutcome  -0.025767  1.000000 -0.071648 -0.287046 -0.103648   0.083959   \n",
       "targeted   0.019620 -0.071648  1.000000  0.086574  0.070190  -0.632761   \n",
       "housing    0.022611 -0.287046  0.086574  1.000000  0.112240  -0.127906   \n",
       "loan       0.052473 -0.103648  0.070190  0.112240  1.000000  -0.048812   \n",
       "education -0.013600  0.083959 -0.632761 -0.127906 -0.048812   1.000000   \n",
       "month      0.020435 -0.018198  0.011374  0.017032 -0.000715  -0.012213   \n",
       "job       -0.021111  0.066452 -0.091083 -0.132182 -0.033795   0.159377   \n",
       "contact   -0.019521  0.024316  0.024672 -0.072051 -0.028964  -0.050515   \n",
       "marital   -0.005753  0.045484 -0.255486 -0.056352 -0.055374   0.122070   \n",
       "age       -0.027905  0.052255  0.141069 -0.179517 -0.009009  -0.120713   \n",
       "salary     0.000392  0.013536 -0.227927 -0.034703  0.014393   0.422500   \n",
       "balance   -0.045128  0.051497 -0.052601 -0.109598 -0.084921   0.074225   \n",
       "day       -0.000964  0.016912 -0.025070 -0.067401  0.008988   0.023110   \n",
       "duration  -0.002728  0.110449 -0.016042 -0.072505 -0.032730  -0.001378   \n",
       "campaign  -0.002308 -0.001180  0.017189  0.062326  0.008033  -0.024108   \n",
       "pdays      0.038702 -0.243675  0.084503  0.365964  0.022819  -0.157076   \n",
       "previous   0.012505  0.042900 -0.002387  0.007706  0.013683   0.000963   \n",
       "response  -0.028256  0.425229 -0.092791 -0.320280 -0.115212   0.108581   \n",
       "\n",
       "              month       job   contact   marital       age    salary  \\\n",
       "default    0.020435 -0.021111 -0.019521 -0.005753 -0.027905  0.000392   \n",
       "poutcome  -0.018198  0.066452  0.024316  0.045484  0.052255  0.013536   \n",
       "targeted   0.011374 -0.091083  0.024672 -0.255486  0.141069 -0.227927   \n",
       "housing    0.017032 -0.132182 -0.072051 -0.056352 -0.179517 -0.034703   \n",
       "loan      -0.000715 -0.033795 -0.028964 -0.055374 -0.009009  0.014393   \n",
       "education -0.012213  0.159377 -0.050515  0.122070 -0.120713  0.422500   \n",
       "month      1.000000 -0.002806  0.041944 -0.024663  0.014876  0.018868   \n",
       "job       -0.002806  1.000000  0.000723  0.072865 -0.020727  0.115646   \n",
       "contact    0.041944  0.000723  1.000000 -0.028908  0.175935 -0.035471   \n",
       "marital   -0.024663  0.072865 -0.028908  1.000000 -0.415511 -0.043422   \n",
       "age        0.014876 -0.020727  0.175935 -0.415511  1.000000  0.058856   \n",
       "salary     0.018868  0.115646 -0.035471 -0.043422  0.058856  1.000000   \n",
       "balance    0.016244  0.041900  0.038262 -0.020178  0.115253  0.065883   \n",
       "day       -0.024655  0.014952 -0.012872  0.016389  0.020092  0.001966   \n",
       "duration  -0.034737  0.023745 -0.023321 -0.009392  0.060406  0.005802   \n",
       "campaign   0.024708 -0.009013  0.077261 -0.008772  0.003632 -0.018930   \n",
       "pdays      0.010131 -0.116824  0.012072 -0.006392 -0.114029 -0.115426   \n",
       "previous   0.012016 -0.000903  0.037374  0.005519  0.004505  0.030139   \n",
       "response  -0.009015  0.079660 -0.007714  0.049751  0.072784  0.038064   \n",
       "\n",
       "            balance       day  duration  campaign     pdays  previous  \\\n",
       "default   -0.045128 -0.000964 -0.002728 -0.002308  0.038702  0.012505   \n",
       "poutcome   0.051497  0.016912  0.110449 -0.001180 -0.243675  0.042900   \n",
       "targeted  -0.052601 -0.025070 -0.016042  0.017189  0.084503 -0.002387   \n",
       "housing   -0.109598 -0.067401 -0.072505  0.062326  0.365964  0.007706   \n",
       "loan      -0.084921  0.008988 -0.032730  0.008033  0.022819  0.013683   \n",
       "education  0.074225  0.023110 -0.001378 -0.024108 -0.157076  0.000963   \n",
       "month      0.016244 -0.024655 -0.034737  0.024708  0.010131  0.012016   \n",
       "job        0.041900  0.014952  0.023745 -0.009013 -0.116824 -0.000903   \n",
       "contact    0.038262 -0.012872 -0.023321  0.077261  0.012072  0.037374   \n",
       "marital   -0.020178  0.016389 -0.009392 -0.008772 -0.006392  0.005519   \n",
       "age        0.115253  0.020092  0.060406  0.003632 -0.114029  0.004505   \n",
       "salary     0.065883  0.001966  0.005802 -0.018930 -0.115426  0.030139   \n",
       "balance    1.000000  0.051482  0.040301 -0.008873 -0.110719  0.002707   \n",
       "day        0.051482  1.000000 -0.013321 -0.029450 -0.099897 -0.015200   \n",
       "duration   0.040301 -0.013321  1.000000 -0.089766 -0.020229 -0.001453   \n",
       "campaign  -0.008873 -0.029450 -0.089766  1.000000  0.068036  0.137433   \n",
       "pdays     -0.110719 -0.099897 -0.020229  0.068036  1.000000 -0.035643   \n",
       "previous   0.002707 -0.015200 -0.001453  0.137433 -0.035643  1.000000   \n",
       "response   0.077127  0.030070  0.342049 -0.094356 -0.173773  0.008075   \n",
       "\n",
       "           response  \n",
       "default   -0.028256  \n",
       "poutcome   0.425229  \n",
       "targeted  -0.092791  \n",
       "housing   -0.320280  \n",
       "loan      -0.115212  \n",
       "education  0.108581  \n",
       "month     -0.009015  \n",
       "job        0.079660  \n",
       "contact   -0.007714  \n",
       "marital    0.049751  \n",
       "age        0.072784  \n",
       "salary     0.038064  \n",
       "balance    0.077127  \n",
       "day        0.030070  \n",
       "duration   0.342049  \n",
       "campaign  -0.094356  \n",
       "pdays     -0.173773  \n",
       "previous   0.008075  \n",
       "response   1.000000  "
      ]
     },
     "execution_count": 38,
     "metadata": {},
     "output_type": "execute_result"
    }
   ],
   "source": [
    "df3.corr()"
   ]
  },
  {
   "cell_type": "markdown",
   "id": "23dab667",
   "metadata": {},
   "source": [
    "## Logistic Regression"
   ]
  },
  {
   "cell_type": "markdown",
   "id": "f7582f57",
   "metadata": {},
   "source": [
    "### Make a predictive model using logistic regression?"
   ]
  },
  {
   "cell_type": "markdown",
   "id": "3895f77d",
   "metadata": {},
   "source": [
    "### Train test split"
   ]
  },
  {
   "cell_type": "code",
   "execution_count": 39,
   "id": "4cd6cf09",
   "metadata": {},
   "outputs": [],
   "source": [
    "from sklearn.model_selection import train_test_split\n",
    "from sklearn.model_selection import cross_val_score\n",
    "from sklearn.linear_model import LogisticRegression\n",
    "from sklearn.metrics import classification_report\n",
    "from sklearn.metrics import confusion_matrix\n",
    "from sklearn.metrics import f1_score"
   ]
  },
  {
   "cell_type": "code",
   "execution_count": 40,
   "id": "eaf6798f",
   "metadata": {},
   "outputs": [
    {
     "name": "stdout",
     "output_type": "stream",
     "text": [
      "       default  poutcome  targeted  housing  loan  education  month  job  \\\n",
      "24060        0         0         1        0     0          2     10    0   \n",
      "24062        0         1         1        1     1          1     10    0   \n",
      "24064        0         0         1        1     0          1     10    7   \n",
      "24072        0         1         1        1     0          2     10    4   \n",
      "24077        0         0         1        1     0          2     10    4   \n",
      "\n",
      "       contact  marital  age  salary  balance  day  duration  campaign  pdays  \\\n",
      "24060        1        1   33   50000      882   21        39         1    151   \n",
      "24062        1        2   42   50000     -247   21       519         1    166   \n",
      "24064        1        1   33   70000     3444   21       144         1     91   \n",
      "24072        1        1   36  100000     2415   22        73         1     86   \n",
      "24077        1        1   36  100000        0   23       140         1    143   \n",
      "\n",
      "       previous  \n",
      "24060         3  \n",
      "24062         1  \n",
      "24064         4  \n",
      "24072         4  \n",
      "24077         3  \n"
     ]
    }
   ],
   "source": [
    "X = df3.drop(['response'],axis=1)\n",
    "y = df3['response']\n",
    "\n",
    "print(X.head())"
   ]
  },
  {
   "cell_type": "code",
   "execution_count": 41,
   "id": "5597b177",
   "metadata": {},
   "outputs": [
    {
     "name": "stdout",
     "output_type": "stream",
     "text": [
      "24060    0\n",
      "24062    1\n",
      "24064    1\n",
      "24072    0\n",
      "24077    1\n",
      "Name: response, dtype: int64\n"
     ]
    }
   ],
   "source": [
    "print(y.head())"
   ]
  },
  {
   "cell_type": "code",
   "execution_count": 42,
   "id": "85bb2c5f",
   "metadata": {},
   "outputs": [],
   "source": [
    "X_train, X_test, y_train, y_test = train_test_split(X, y, train_size = 0.7, test_size = 0.3, random_state = 100)"
   ]
  },
  {
   "cell_type": "code",
   "execution_count": 43,
   "id": "3770aa2f",
   "metadata": {},
   "outputs": [],
   "source": [
    "lr = LogisticRegression()"
   ]
  },
  {
   "cell_type": "code",
   "execution_count": 44,
   "id": "60682a5b",
   "metadata": {},
   "outputs": [],
   "source": [
    "import statsmodels.api as sm"
   ]
  },
  {
   "cell_type": "code",
   "execution_count": 45,
   "id": "8dac2833",
   "metadata": {},
   "outputs": [
    {
     "name": "stdout",
     "output_type": "stream",
     "text": [
      "Optimization terminated successfully.\n",
      "         Current function value: 0.381454\n",
      "         Iterations 7\n"
     ]
    }
   ],
   "source": [
    "lr = sm.Logit(y_train, X_train).fit()"
   ]
  },
  {
   "cell_type": "code",
   "execution_count": 46,
   "id": "7142d9c2",
   "metadata": {},
   "outputs": [
    {
     "name": "stdout",
     "output_type": "stream",
     "text": [
      "                           Logit Regression Results                           \n",
      "==============================================================================\n",
      "Dep. Variable:               response   No. Observations:                 5743\n",
      "Model:                          Logit   Df Residuals:                     5725\n",
      "Method:                           MLE   Df Model:                           17\n",
      "Date:                Wed, 19 Jan 2022   Pseudo R-squ.:                  0.2913\n",
      "Time:                        15:35:52   Log-Likelihood:                -2190.7\n",
      "converged:                       True   LL-Null:                       -3091.1\n",
      "Covariance Type:            nonrobust   LLR p-value:                     0.000\n",
      "==============================================================================\n",
      "                 coef    std err          z      P>|z|      [0.025      0.975]\n",
      "------------------------------------------------------------------------------\n",
      "default       -0.6149      0.574     -1.071      0.284      -1.740       0.510\n",
      "poutcome       0.9851      0.046     21.279      0.000       0.894       1.076\n",
      "targeted      -0.6276      0.103     -6.080      0.000      -0.830      -0.425\n",
      "housing       -1.3196      0.084    -15.744      0.000      -1.484      -1.155\n",
      "loan          -0.6680      0.140     -4.768      0.000      -0.943      -0.393\n",
      "education     -0.0726      0.064     -1.129      0.259      -0.199       0.053\n",
      "month         -0.0094      0.011     -0.885      0.376      -0.030       0.011\n",
      "job           -0.0138      0.012     -1.150      0.250      -0.037       0.010\n",
      "contact       -0.2645      0.141     -1.882      0.060      -0.540       0.011\n",
      "marital       -0.2570      0.058     -4.421      0.000      -0.371      -0.143\n",
      "age           -0.0110      0.003     -3.765      0.000      -0.017      -0.005\n",
      "salary     -9.651e-07    1.3e-06     -0.741      0.459   -3.52e-06    1.59e-06\n",
      "balance     1.848e-05   1.21e-05      1.534      0.125   -5.14e-06    4.21e-05\n",
      "day           -0.0049      0.005     -1.084      0.278      -0.014       0.004\n",
      "duration       0.0034      0.000     20.363      0.000       0.003       0.004\n",
      "campaign      -0.1828      0.030     -6.029      0.000      -0.242      -0.123\n",
      "pdays         -0.0012      0.000     -3.138      0.002      -0.002      -0.000\n",
      "previous      -0.0009      0.008     -0.113      0.910      -0.016       0.014\n",
      "==============================================================================\n"
     ]
    }
   ],
   "source": [
    "print(lr.summary())"
   ]
  },
  {
   "cell_type": "code",
   "execution_count": 47,
   "id": "f131fcf7",
   "metadata": {},
   "outputs": [],
   "source": [
    "predictions = lr.predict(X_test)"
   ]
  },
  {
   "cell_type": "code",
   "execution_count": 48,
   "id": "cb051fdb",
   "metadata": {},
   "outputs": [
    {
     "data": {
      "text/html": [
       "<div>\n",
       "<style scoped>\n",
       "    .dataframe tbody tr th:only-of-type {\n",
       "        vertical-align: middle;\n",
       "    }\n",
       "\n",
       "    .dataframe tbody tr th {\n",
       "        vertical-align: top;\n",
       "    }\n",
       "\n",
       "    .dataframe thead th {\n",
       "        text-align: right;\n",
       "    }\n",
       "</style>\n",
       "<table border=\"1\" class=\"dataframe\">\n",
       "  <thead>\n",
       "    <tr style=\"text-align: right;\">\n",
       "      <th></th>\n",
       "      <th>default</th>\n",
       "      <th>poutcome</th>\n",
       "      <th>targeted</th>\n",
       "      <th>housing</th>\n",
       "      <th>loan</th>\n",
       "      <th>education</th>\n",
       "      <th>month</th>\n",
       "      <th>job</th>\n",
       "      <th>contact</th>\n",
       "      <th>marital</th>\n",
       "      <th>age</th>\n",
       "      <th>salary</th>\n",
       "      <th>balance</th>\n",
       "      <th>day</th>\n",
       "      <th>duration</th>\n",
       "      <th>campaign</th>\n",
       "      <th>pdays</th>\n",
       "      <th>previous</th>\n",
       "    </tr>\n",
       "  </thead>\n",
       "  <tbody>\n",
       "    <tr>\n",
       "      <th>36349</th>\n",
       "      <td>0</td>\n",
       "      <td>1</td>\n",
       "      <td>1</td>\n",
       "      <td>1</td>\n",
       "      <td>0</td>\n",
       "      <td>1</td>\n",
       "      <td>8</td>\n",
       "      <td>1</td>\n",
       "      <td>0</td>\n",
       "      <td>2</td>\n",
       "      <td>38</td>\n",
       "      <td>20000</td>\n",
       "      <td>328</td>\n",
       "      <td>11</td>\n",
       "      <td>776</td>\n",
       "      <td>4</td>\n",
       "      <td>349</td>\n",
       "      <td>1</td>\n",
       "    </tr>\n",
       "    <tr>\n",
       "      <th>25305</th>\n",
       "      <td>0</td>\n",
       "      <td>0</td>\n",
       "      <td>0</td>\n",
       "      <td>1</td>\n",
       "      <td>0</td>\n",
       "      <td>2</td>\n",
       "      <td>9</td>\n",
       "      <td>9</td>\n",
       "      <td>0</td>\n",
       "      <td>2</td>\n",
       "      <td>30</td>\n",
       "      <td>60000</td>\n",
       "      <td>0</td>\n",
       "      <td>18</td>\n",
       "      <td>342</td>\n",
       "      <td>2</td>\n",
       "      <td>174</td>\n",
       "      <td>1</td>\n",
       "    </tr>\n",
       "    <tr>\n",
       "      <th>33727</th>\n",
       "      <td>0</td>\n",
       "      <td>1</td>\n",
       "      <td>1</td>\n",
       "      <td>1</td>\n",
       "      <td>0</td>\n",
       "      <td>1</td>\n",
       "      <td>0</td>\n",
       "      <td>0</td>\n",
       "      <td>1</td>\n",
       "      <td>2</td>\n",
       "      <td>39</td>\n",
       "      <td>50000</td>\n",
       "      <td>720</td>\n",
       "      <td>22</td>\n",
       "      <td>154</td>\n",
       "      <td>8</td>\n",
       "      <td>14</td>\n",
       "      <td>5</td>\n",
       "    </tr>\n",
       "    <tr>\n",
       "      <th>25636</th>\n",
       "      <td>0</td>\n",
       "      <td>0</td>\n",
       "      <td>1</td>\n",
       "      <td>1</td>\n",
       "      <td>0</td>\n",
       "      <td>0</td>\n",
       "      <td>9</td>\n",
       "      <td>1</td>\n",
       "      <td>1</td>\n",
       "      <td>1</td>\n",
       "      <td>40</td>\n",
       "      <td>20000</td>\n",
       "      <td>4608</td>\n",
       "      <td>19</td>\n",
       "      <td>111</td>\n",
       "      <td>2</td>\n",
       "      <td>156</td>\n",
       "      <td>1</td>\n",
       "    </tr>\n",
       "    <tr>\n",
       "      <th>45025</th>\n",
       "      <td>0</td>\n",
       "      <td>2</td>\n",
       "      <td>1</td>\n",
       "      <td>0</td>\n",
       "      <td>0</td>\n",
       "      <td>1</td>\n",
       "      <td>10</td>\n",
       "      <td>5</td>\n",
       "      <td>0</td>\n",
       "      <td>1</td>\n",
       "      <td>61</td>\n",
       "      <td>55000</td>\n",
       "      <td>938</td>\n",
       "      <td>15</td>\n",
       "      <td>212</td>\n",
       "      <td>2</td>\n",
       "      <td>92</td>\n",
       "      <td>5</td>\n",
       "    </tr>\n",
       "    <tr>\n",
       "      <th>...</th>\n",
       "      <td>...</td>\n",
       "      <td>...</td>\n",
       "      <td>...</td>\n",
       "      <td>...</td>\n",
       "      <td>...</td>\n",
       "      <td>...</td>\n",
       "      <td>...</td>\n",
       "      <td>...</td>\n",
       "      <td>...</td>\n",
       "      <td>...</td>\n",
       "      <td>...</td>\n",
       "      <td>...</td>\n",
       "      <td>...</td>\n",
       "      <td>...</td>\n",
       "      <td>...</td>\n",
       "      <td>...</td>\n",
       "      <td>...</td>\n",
       "      <td>...</td>\n",
       "    </tr>\n",
       "    <tr>\n",
       "      <th>42702</th>\n",
       "      <td>0</td>\n",
       "      <td>2</td>\n",
       "      <td>1</td>\n",
       "      <td>0</td>\n",
       "      <td>0</td>\n",
       "      <td>2</td>\n",
       "      <td>4</td>\n",
       "      <td>3</td>\n",
       "      <td>0</td>\n",
       "      <td>1</td>\n",
       "      <td>63</td>\n",
       "      <td>16000</td>\n",
       "      <td>1528</td>\n",
       "      <td>18</td>\n",
       "      <td>309</td>\n",
       "      <td>2</td>\n",
       "      <td>95</td>\n",
       "      <td>3</td>\n",
       "    </tr>\n",
       "    <tr>\n",
       "      <th>42932</th>\n",
       "      <td>0</td>\n",
       "      <td>0</td>\n",
       "      <td>1</td>\n",
       "      <td>0</td>\n",
       "      <td>0</td>\n",
       "      <td>0</td>\n",
       "      <td>3</td>\n",
       "      <td>5</td>\n",
       "      <td>1</td>\n",
       "      <td>0</td>\n",
       "      <td>84</td>\n",
       "      <td>55000</td>\n",
       "      <td>2619</td>\n",
       "      <td>8</td>\n",
       "      <td>145</td>\n",
       "      <td>2</td>\n",
       "      <td>115</td>\n",
       "      <td>2</td>\n",
       "    </tr>\n",
       "    <tr>\n",
       "      <th>42047</th>\n",
       "      <td>0</td>\n",
       "      <td>0</td>\n",
       "      <td>1</td>\n",
       "      <td>0</td>\n",
       "      <td>0</td>\n",
       "      <td>1</td>\n",
       "      <td>10</td>\n",
       "      <td>1</td>\n",
       "      <td>0</td>\n",
       "      <td>1</td>\n",
       "      <td>61</td>\n",
       "      <td>20000</td>\n",
       "      <td>272</td>\n",
       "      <td>29</td>\n",
       "      <td>318</td>\n",
       "      <td>1</td>\n",
       "      <td>269</td>\n",
       "      <td>1</td>\n",
       "    </tr>\n",
       "    <tr>\n",
       "      <th>25477</th>\n",
       "      <td>0</td>\n",
       "      <td>0</td>\n",
       "      <td>1</td>\n",
       "      <td>1</td>\n",
       "      <td>0</td>\n",
       "      <td>2</td>\n",
       "      <td>9</td>\n",
       "      <td>7</td>\n",
       "      <td>1</td>\n",
       "      <td>1</td>\n",
       "      <td>42</td>\n",
       "      <td>70000</td>\n",
       "      <td>412</td>\n",
       "      <td>19</td>\n",
       "      <td>142</td>\n",
       "      <td>4</td>\n",
       "      <td>169</td>\n",
       "      <td>5</td>\n",
       "    </tr>\n",
       "    <tr>\n",
       "      <th>40150</th>\n",
       "      <td>0</td>\n",
       "      <td>1</td>\n",
       "      <td>0</td>\n",
       "      <td>0</td>\n",
       "      <td>0</td>\n",
       "      <td>3</td>\n",
       "      <td>6</td>\n",
       "      <td>3</td>\n",
       "      <td>0</td>\n",
       "      <td>1</td>\n",
       "      <td>55</td>\n",
       "      <td>16000</td>\n",
       "      <td>366</td>\n",
       "      <td>5</td>\n",
       "      <td>365</td>\n",
       "      <td>3</td>\n",
       "      <td>57</td>\n",
       "      <td>2</td>\n",
       "    </tr>\n",
       "  </tbody>\n",
       "</table>\n",
       "<p>2462 rows × 18 columns</p>\n",
       "</div>"
      ],
      "text/plain": [
       "       default  poutcome  targeted  housing  loan  education  month  job  \\\n",
       "36349        0         1         1        1     0          1      8    1   \n",
       "25305        0         0         0        1     0          2      9    9   \n",
       "33727        0         1         1        1     0          1      0    0   \n",
       "25636        0         0         1        1     0          0      9    1   \n",
       "45025        0         2         1        0     0          1     10    5   \n",
       "...        ...       ...       ...      ...   ...        ...    ...  ...   \n",
       "42702        0         2         1        0     0          2      4    3   \n",
       "42932        0         0         1        0     0          0      3    5   \n",
       "42047        0         0         1        0     0          1     10    1   \n",
       "25477        0         0         1        1     0          2      9    7   \n",
       "40150        0         1         0        0     0          3      6    3   \n",
       "\n",
       "       contact  marital  age  salary  balance  day  duration  campaign  pdays  \\\n",
       "36349        0        2   38   20000      328   11       776         4    349   \n",
       "25305        0        2   30   60000        0   18       342         2    174   \n",
       "33727        1        2   39   50000      720   22       154         8     14   \n",
       "25636        1        1   40   20000     4608   19       111         2    156   \n",
       "45025        0        1   61   55000      938   15       212         2     92   \n",
       "...        ...      ...  ...     ...      ...  ...       ...       ...    ...   \n",
       "42702        0        1   63   16000     1528   18       309         2     95   \n",
       "42932        1        0   84   55000     2619    8       145         2    115   \n",
       "42047        0        1   61   20000      272   29       318         1    269   \n",
       "25477        1        1   42   70000      412   19       142         4    169   \n",
       "40150        0        1   55   16000      366    5       365         3     57   \n",
       "\n",
       "       previous  \n",
       "36349         1  \n",
       "25305         1  \n",
       "33727         5  \n",
       "25636         1  \n",
       "45025         5  \n",
       "...         ...  \n",
       "42702         3  \n",
       "42932         2  \n",
       "42047         1  \n",
       "25477         5  \n",
       "40150         2  \n",
       "\n",
       "[2462 rows x 18 columns]"
      ]
     },
     "execution_count": 48,
     "metadata": {},
     "output_type": "execute_result"
    }
   ],
   "source": [
    "X_test"
   ]
  },
  {
   "cell_type": "code",
   "execution_count": 49,
   "id": "48309fbf",
   "metadata": {},
   "outputs": [
    {
     "data": {
      "text/plain": [
       "36349    0.344521\n",
       "25305    0.111108\n",
       "33727    0.033940\n",
       "25636    0.038744\n",
       "45025    0.576100\n",
       "           ...   \n",
       "42702    0.658390\n",
       "42932    0.122136\n",
       "42047    0.210714\n",
       "25477    0.020502\n",
       "40150    0.596449\n",
       "Length: 2462, dtype: float64"
      ]
     },
     "execution_count": 49,
     "metadata": {},
     "output_type": "execute_result"
    }
   ],
   "source": [
    "predictions"
   ]
  },
  {
   "cell_type": "code",
   "execution_count": 50,
   "id": "daa12c74",
   "metadata": {},
   "outputs": [
    {
     "data": {
      "text/plain": [
       "36349    0\n",
       "25305    0\n",
       "33727    0\n",
       "25636    0\n",
       "45025    0\n",
       "        ..\n",
       "42702    0\n",
       "42932    0\n",
       "42047    0\n",
       "25477    0\n",
       "40150    1\n",
       "Name: response, Length: 2462, dtype: int64"
      ]
     },
     "execution_count": 50,
     "metadata": {},
     "output_type": "execute_result"
    }
   ],
   "source": [
    "y_test"
   ]
  },
  {
   "cell_type": "code",
   "execution_count": 51,
   "id": "7dd8665a",
   "metadata": {},
   "outputs": [],
   "source": [
    "y_pred_new = np.where(predictions > 0.3,1,0)"
   ]
  },
  {
   "cell_type": "code",
   "execution_count": 52,
   "id": "dada87e2",
   "metadata": {},
   "outputs": [
    {
     "name": "stdout",
     "output_type": "stream",
     "text": [
      "              precision    recall  f1-score   support\n",
      "\n",
      "           0       0.91      0.85      0.88      1892\n",
      "           1       0.59      0.71      0.64       570\n",
      "\n",
      "    accuracy                           0.82      2462\n",
      "   macro avg       0.75      0.78      0.76      2462\n",
      "weighted avg       0.83      0.82      0.82      2462\n",
      "\n"
     ]
    }
   ],
   "source": [
    "print(classification_report(y_test, y_pred_new))"
   ]
  },
  {
   "cell_type": "code",
   "execution_count": 53,
   "id": "2eb22716",
   "metadata": {},
   "outputs": [
    {
     "data": {
      "text/plain": [
       "array([[1605,  163],\n",
       "       [ 287,  407]], dtype=int64)"
      ]
     },
     "execution_count": 53,
     "metadata": {},
     "output_type": "execute_result"
    }
   ],
   "source": [
    "confusion_matrix(y_pred_new,y_test)"
   ]
  },
  {
   "cell_type": "code",
   "execution_count": 54,
   "id": "6b2a72c7",
   "metadata": {},
   "outputs": [
    {
     "data": {
      "text/plain": [
       "0.6439873417721519"
      ]
     },
     "execution_count": 54,
     "metadata": {},
     "output_type": "execute_result"
    }
   ],
   "source": [
    "f1_score(y_pred_new,y_test)"
   ]
  },
  {
   "cell_type": "markdown",
   "id": "423b58e4",
   "metadata": {},
   "source": [
    "### Use RFE to select top n features in an automated fashion (choose n as you see fit)"
   ]
  },
  {
   "cell_type": "code",
   "execution_count": 55,
   "id": "7367ee68",
   "metadata": {},
   "outputs": [],
   "source": [
    "lr = LogisticRegression()"
   ]
  },
  {
   "cell_type": "code",
   "execution_count": 56,
   "id": "afda87bc",
   "metadata": {},
   "outputs": [
    {
     "data": {
      "text/plain": [
       "RFE(estimator=LogisticRegression(), n_features_to_select=5)"
      ]
     },
     "execution_count": 56,
     "metadata": {},
     "output_type": "execute_result"
    }
   ],
   "source": [
    "from sklearn.feature_selection import RFE\n",
    "from sklearn.preprocessing import MinMaxScaler\n",
    "\n",
    "\n",
    "scaler = MinMaxScaler()\n",
    "rfe = RFE(lr, 5)\n",
    "rfe.fit(X_train,y_train)"
   ]
  },
  {
   "cell_type": "code",
   "execution_count": 57,
   "id": "68ea33e7",
   "metadata": {},
   "outputs": [
    {
     "data": {
      "text/plain": [
       "array([False,  True, False,  True,  True,  True, False, False,  True,\n",
       "       False, False, False, False, False, False, False, False, False])"
      ]
     },
     "execution_count": 57,
     "metadata": {},
     "output_type": "execute_result"
    }
   ],
   "source": [
    "rfe.support_"
   ]
  },
  {
   "cell_type": "code",
   "execution_count": 58,
   "id": "8a32e44d",
   "metadata": {},
   "outputs": [
    {
     "data": {
      "text/plain": [
       "Index(['poutcome', 'housing', 'loan', 'education', 'contact'], dtype='object')"
      ]
     },
     "execution_count": 58,
     "metadata": {},
     "output_type": "execute_result"
    }
   ],
   "source": [
    "X_train.columns[rfe.support_]"
   ]
  },
  {
   "cell_type": "code",
   "execution_count": 59,
   "id": "851e6b45",
   "metadata": {},
   "outputs": [],
   "source": [
    "cols = X_train.columns[rfe.support_]"
   ]
  },
  {
   "cell_type": "code",
   "execution_count": 60,
   "id": "4551127d",
   "metadata": {},
   "outputs": [
    {
     "data": {
      "text/plain": [
       "LogisticRegression()"
      ]
     },
     "execution_count": 60,
     "metadata": {},
     "output_type": "execute_result"
    }
   ],
   "source": [
    "lr.fit(X_train[cols],y_train)"
   ]
  },
  {
   "cell_type": "code",
   "execution_count": 61,
   "id": "75f8b07e",
   "metadata": {},
   "outputs": [],
   "source": [
    "y_pred2 = lr.predict(X_test[cols])"
   ]
  },
  {
   "cell_type": "code",
   "execution_count": 62,
   "id": "70dfc10f",
   "metadata": {},
   "outputs": [
    {
     "data": {
      "text/plain": [
       "0.5100671140939598"
      ]
     },
     "execution_count": 62,
     "metadata": {},
     "output_type": "execute_result"
    }
   ],
   "source": [
    "f1_score(y_pred2,y_test)"
   ]
  },
  {
   "cell_type": "code",
   "execution_count": 63,
   "id": "4b378d1c",
   "metadata": {},
   "outputs": [
    {
     "data": {
      "text/plain": [
       "array([[1796,  342],\n",
       "       [  96,  228]], dtype=int64)"
      ]
     },
     "execution_count": 63,
     "metadata": {},
     "output_type": "execute_result"
    }
   ],
   "source": [
    "confusion_matrix(y_pred2,y_test)"
   ]
  },
  {
   "cell_type": "code",
   "execution_count": 64,
   "id": "f202f0d8",
   "metadata": {},
   "outputs": [
    {
     "name": "stdout",
     "output_type": "stream",
     "text": [
      "              precision    recall  f1-score   support\n",
      "\n",
      "           0       0.84      0.95      0.89      1892\n",
      "           1       0.70      0.40      0.51       570\n",
      "\n",
      "    accuracy                           0.82      2462\n",
      "   macro avg       0.77      0.67      0.70      2462\n",
      "weighted avg       0.81      0.82      0.80      2462\n",
      "\n"
     ]
    }
   ],
   "source": [
    "print(classification_report(y_test, y_pred2))"
   ]
  },
  {
   "cell_type": "markdown",
   "id": "bec5b9e8",
   "metadata": {},
   "source": [
    "### Using p values and VIF, get rid of the redundant features"
   ]
  },
  {
   "cell_type": "code",
   "execution_count": 65,
   "id": "6f4cc084",
   "metadata": {},
   "outputs": [],
   "source": [
    "from statsmodels.stats.outliers_influence import variance_inflation_factor"
   ]
  },
  {
   "cell_type": "code",
   "execution_count": 66,
   "id": "6614aae4",
   "metadata": {},
   "outputs": [
    {
     "data": {
      "text/html": [
       "<div>\n",
       "<style scoped>\n",
       "    .dataframe tbody tr th:only-of-type {\n",
       "        vertical-align: middle;\n",
       "    }\n",
       "\n",
       "    .dataframe tbody tr th {\n",
       "        vertical-align: top;\n",
       "    }\n",
       "\n",
       "    .dataframe thead th {\n",
       "        text-align: right;\n",
       "    }\n",
       "</style>\n",
       "<table border=\"1\" class=\"dataframe\">\n",
       "  <thead>\n",
       "    <tr style=\"text-align: right;\">\n",
       "      <th></th>\n",
       "      <th>features</th>\n",
       "      <th>VIF</th>\n",
       "    </tr>\n",
       "  </thead>\n",
       "  <tbody>\n",
       "    <tr>\n",
       "      <th>10</th>\n",
       "      <td>age</td>\n",
       "      <td>11.89</td>\n",
       "    </tr>\n",
       "    <tr>\n",
       "      <th>2</th>\n",
       "      <td>targeted</td>\n",
       "      <td>6.58</td>\n",
       "    </tr>\n",
       "    <tr>\n",
       "      <th>5</th>\n",
       "      <td>education</td>\n",
       "      <td>6.49</td>\n",
       "    </tr>\n",
       "    <tr>\n",
       "      <th>16</th>\n",
       "      <td>pdays</td>\n",
       "      <td>5.95</td>\n",
       "    </tr>\n",
       "    <tr>\n",
       "      <th>11</th>\n",
       "      <td>salary</td>\n",
       "      <td>5.39</td>\n",
       "    </tr>\n",
       "    <tr>\n",
       "      <th>9</th>\n",
       "      <td>marital</td>\n",
       "      <td>4.37</td>\n",
       "    </tr>\n",
       "    <tr>\n",
       "      <th>13</th>\n",
       "      <td>day</td>\n",
       "      <td>4.08</td>\n",
       "    </tr>\n",
       "    <tr>\n",
       "      <th>6</th>\n",
       "      <td>month</td>\n",
       "      <td>3.63</td>\n",
       "    </tr>\n",
       "    <tr>\n",
       "      <th>3</th>\n",
       "      <td>housing</td>\n",
       "      <td>3.25</td>\n",
       "    </tr>\n",
       "    <tr>\n",
       "      <th>7</th>\n",
       "      <td>job</td>\n",
       "      <td>2.86</td>\n",
       "    </tr>\n",
       "    <tr>\n",
       "      <th>15</th>\n",
       "      <td>campaign</td>\n",
       "      <td>2.79</td>\n",
       "    </tr>\n",
       "    <tr>\n",
       "      <th>14</th>\n",
       "      <td>duration</td>\n",
       "      <td>2.28</td>\n",
       "    </tr>\n",
       "    <tr>\n",
       "      <th>1</th>\n",
       "      <td>poutcome</td>\n",
       "      <td>1.76</td>\n",
       "    </tr>\n",
       "    <tr>\n",
       "      <th>17</th>\n",
       "      <td>previous</td>\n",
       "      <td>1.45</td>\n",
       "    </tr>\n",
       "    <tr>\n",
       "      <th>12</th>\n",
       "      <td>balance</td>\n",
       "      <td>1.31</td>\n",
       "    </tr>\n",
       "    <tr>\n",
       "      <th>4</th>\n",
       "      <td>loan</td>\n",
       "      <td>1.20</td>\n",
       "    </tr>\n",
       "    <tr>\n",
       "      <th>8</th>\n",
       "      <td>contact</td>\n",
       "      <td>1.15</td>\n",
       "    </tr>\n",
       "    <tr>\n",
       "      <th>0</th>\n",
       "      <td>default</td>\n",
       "      <td>1.02</td>\n",
       "    </tr>\n",
       "  </tbody>\n",
       "</table>\n",
       "</div>"
      ],
      "text/plain": [
       "     features    VIF\n",
       "10        age  11.89\n",
       "2    targeted   6.58\n",
       "5   education   6.49\n",
       "16      pdays   5.95\n",
       "11     salary   5.39\n",
       "9     marital   4.37\n",
       "13        day   4.08\n",
       "6       month   3.63\n",
       "3     housing   3.25\n",
       "7         job   2.86\n",
       "15   campaign   2.79\n",
       "14   duration   2.28\n",
       "1    poutcome   1.76\n",
       "17   previous   1.45\n",
       "12    balance   1.31\n",
       "4        loan   1.20\n",
       "8     contact   1.15\n",
       "0     default   1.02"
      ]
     },
     "execution_count": 66,
     "metadata": {},
     "output_type": "execute_result"
    }
   ],
   "source": [
    "# Create a dataframe that will contain the names of all the feature variables and their respective VIFs\n",
    "vif = pd.DataFrame()\n",
    "vif['features'] = X_train.columns\n",
    "vif['VIF'] = [variance_inflation_factor(X_train.values, i) for i in range(X_train.shape[1])]\n",
    "vif['VIF'] = round(vif['VIF'], 2)\n",
    "vif = vif.sort_values(by = \"VIF\", ascending = False)\n",
    "vif  "
   ]
  },
  {
   "cell_type": "markdown",
   "id": "75a6382d",
   "metadata": {},
   "source": [
    "### Estimate the model performance using k fold cross validation"
   ]
  },
  {
   "cell_type": "code",
   "execution_count": 67,
   "id": "403b99a3",
   "metadata": {},
   "outputs": [
    {
     "data": {
      "text/plain": [
       "LogisticRegression()"
      ]
     },
     "execution_count": 67,
     "metadata": {},
     "output_type": "execute_result"
    }
   ],
   "source": [
    "lr.fit(X_train, y_train)"
   ]
  },
  {
   "cell_type": "code",
   "execution_count": 68,
   "id": "c2f2b816",
   "metadata": {},
   "outputs": [
    {
     "data": {
      "text/plain": [
       "0.7809499549676586"
      ]
     },
     "execution_count": 68,
     "metadata": {},
     "output_type": "execute_result"
    }
   ],
   "source": [
    "cv_score = cross_val_score(lr, X_train, y_train, cv = 5)\n",
    "\n",
    "np.mean(cv_score)"
   ]
  },
  {
   "cell_type": "markdown",
   "id": "84b7ea82",
   "metadata": {},
   "source": [
    "### What is the precision, recall, accuracy of your model?"
   ]
  },
  {
   "cell_type": "code",
   "execution_count": 69,
   "id": "67c51cde",
   "metadata": {},
   "outputs": [
    {
     "name": "stdout",
     "output_type": "stream",
     "text": [
      "              precision    recall  f1-score   support\n",
      "\n",
      "           0       0.91      0.85      0.88      1892\n",
      "           1       0.59      0.71      0.64       570\n",
      "\n",
      "    accuracy                           0.82      2462\n",
      "   macro avg       0.75      0.78      0.76      2462\n",
      "weighted avg       0.83      0.82      0.82      2462\n",
      "\n"
     ]
    }
   ],
   "source": [
    "print(classification_report(y_test, y_pred_new))"
   ]
  },
  {
   "cell_type": "code",
   "execution_count": 90,
   "id": "9ce4b955",
   "metadata": {},
   "outputs": [
    {
     "data": {
      "text/plain": [
       "array([[1605,  163],\n",
       "       [ 287,  407]], dtype=int64)"
      ]
     },
     "execution_count": 90,
     "metadata": {},
     "output_type": "execute_result"
    }
   ],
   "source": [
    "confusion_matrix(y_pred_new,y_test)"
   ]
  },
  {
   "cell_type": "code",
   "execution_count": 70,
   "id": "cf413c56",
   "metadata": {},
   "outputs": [
    {
     "name": "stdout",
     "output_type": "stream",
     "text": [
      "              precision    recall  f1-score   support\n",
      "\n",
      "           0       0.84      0.95      0.89      1892\n",
      "           1       0.70      0.40      0.51       570\n",
      "\n",
      "    accuracy                           0.82      2462\n",
      "   macro avg       0.77      0.67      0.70      2462\n",
      "weighted avg       0.81      0.82      0.80      2462\n",
      "\n"
     ]
    }
   ],
   "source": [
    "print(classification_report(y_test, y_pred2))"
   ]
  },
  {
   "cell_type": "code",
   "execution_count": 91,
   "id": "ef071cc4",
   "metadata": {},
   "outputs": [
    {
     "data": {
      "text/plain": [
       "array([[1796,  342],\n",
       "       [  96,  228]], dtype=int64)"
      ]
     },
     "execution_count": 91,
     "metadata": {},
     "output_type": "execute_result"
    }
   ],
   "source": [
    "confusion_matrix(y_pred2,y_test)"
   ]
  },
  {
   "cell_type": "markdown",
   "id": "d393b02f",
   "metadata": {},
   "source": [
    "### Which features are the most important from your model?"
   ]
  },
  {
   "cell_type": "markdown",
   "id": "3d0ec363",
   "metadata": {},
   "source": [
    "### 'poutcome', 'housing', 'loan', 'education', 'contact' best features from logistic regression"
   ]
  },
  {
   "cell_type": "markdown",
   "id": "b50153e6",
   "metadata": {},
   "source": [
    "## Random Forest"
   ]
  },
  {
   "cell_type": "markdown",
   "id": "523188d5",
   "metadata": {},
   "source": [
    "### Make a predictive model using random forest technique"
   ]
  },
  {
   "cell_type": "code",
   "execution_count": 71,
   "id": "5d72ec45",
   "metadata": {},
   "outputs": [],
   "source": [
    "from sklearn.ensemble import RandomForestClassifier"
   ]
  },
  {
   "cell_type": "markdown",
   "id": "6be35068",
   "metadata": {},
   "source": [
    "### Use not more than 50 trees, and control the depth of the trees to prevent overfitting"
   ]
  },
  {
   "cell_type": "code",
   "execution_count": 72,
   "id": "ea100196",
   "metadata": {},
   "outputs": [],
   "source": [
    "rfc = RandomForestClassifier(max_depth = 5, random_state=44, max_leaf_nodes = 50)"
   ]
  },
  {
   "cell_type": "code",
   "execution_count": 73,
   "id": "38d1cad2",
   "metadata": {},
   "outputs": [
    {
     "data": {
      "text/plain": [
       "RandomForestClassifier(max_depth=5, max_leaf_nodes=50, random_state=44)"
      ]
     },
     "execution_count": 73,
     "metadata": {},
     "output_type": "execute_result"
    }
   ],
   "source": [
    "rfc.fit(X_train, y_train)"
   ]
  },
  {
   "cell_type": "markdown",
   "id": "d6fd73cb",
   "metadata": {},
   "source": [
    "### Estimate the model performance using k fold cross validation"
   ]
  },
  {
   "cell_type": "code",
   "execution_count": 74,
   "id": "55071738",
   "metadata": {},
   "outputs": [
    {
     "data": {
      "text/plain": [
       "0.840325779423404"
      ]
     },
     "execution_count": 74,
     "metadata": {},
     "output_type": "execute_result"
    }
   ],
   "source": [
    "cv2_score = cross_val_score(rfc, X_train, y_train, cv = 5)\n",
    "np.mean(cv2_score)"
   ]
  },
  {
   "cell_type": "markdown",
   "id": "93dadf54",
   "metadata": {},
   "source": [
    "### What is the precision, recall, accuracy of your model?"
   ]
  },
  {
   "cell_type": "code",
   "execution_count": 75,
   "id": "e1afafa4",
   "metadata": {},
   "outputs": [],
   "source": [
    "y_pred1 = rfc.predict(X_test)"
   ]
  },
  {
   "cell_type": "code",
   "execution_count": 76,
   "id": "c2c30c60",
   "metadata": {},
   "outputs": [
    {
     "name": "stdout",
     "output_type": "stream",
     "text": [
      "              precision    recall  f1-score   support\n",
      "\n",
      "           0       0.85      0.96      0.90      1892\n",
      "           1       0.77      0.46      0.57       570\n",
      "\n",
      "    accuracy                           0.84      2462\n",
      "   macro avg       0.81      0.71      0.74      2462\n",
      "weighted avg       0.83      0.84      0.83      2462\n",
      "\n"
     ]
    }
   ],
   "source": [
    "print(classification_report(y_test, y_pred1))"
   ]
  },
  {
   "cell_type": "code",
   "execution_count": 77,
   "id": "f9a9afeb",
   "metadata": {},
   "outputs": [
    {
     "data": {
      "text/plain": [
       "0.5745614035087718"
      ]
     },
     "execution_count": 77,
     "metadata": {},
     "output_type": "execute_result"
    }
   ],
   "source": [
    "f1_score(y_test,y_pred1)"
   ]
  },
  {
   "cell_type": "code",
   "execution_count": 78,
   "id": "50b77df4",
   "metadata": {},
   "outputs": [
    {
     "data": {
      "text/plain": [
       "array([[1812,   80],\n",
       "       [ 308,  262]], dtype=int64)"
      ]
     },
     "execution_count": 78,
     "metadata": {},
     "output_type": "execute_result"
    }
   ],
   "source": [
    "confusion_matrix(y_test,y_pred1)"
   ]
  },
  {
   "cell_type": "code",
   "execution_count": 79,
   "id": "090e7b51",
   "metadata": {},
   "outputs": [],
   "source": [
    "from sklearn.metrics import roc_auc_score"
   ]
  },
  {
   "cell_type": "code",
   "execution_count": 80,
   "id": "8f9bab5a",
   "metadata": {},
   "outputs": [
    {
     "data": {
      "text/plain": [
       "0.708682912354883"
      ]
     },
     "execution_count": 80,
     "metadata": {},
     "output_type": "execute_result"
    }
   ],
   "source": [
    "roc_auc_score(y_test,y_pred1)"
   ]
  },
  {
   "cell_type": "markdown",
   "id": "0520e69c",
   "metadata": {},
   "source": [
    "### Using the feature importance values from the Random Forest module, identify the most\n",
    "### important features for the model"
   ]
  },
  {
   "cell_type": "markdown",
   "id": "2be8721a",
   "metadata": {},
   "source": [
    "### RFE"
   ]
  },
  {
   "cell_type": "code",
   "execution_count": 81,
   "id": "df47f170",
   "metadata": {},
   "outputs": [
    {
     "data": {
      "text/plain": [
       "RFE(estimator=RandomForestClassifier(max_depth=5, max_leaf_nodes=50,\n",
       "                                     random_state=44),\n",
       "    n_features_to_select=5)"
      ]
     },
     "execution_count": 81,
     "metadata": {},
     "output_type": "execute_result"
    }
   ],
   "source": [
    "from sklearn.feature_selection import RFE\n",
    "from sklearn.preprocessing import MinMaxScaler\n",
    "\n",
    "\n",
    "scaler = MinMaxScaler()\n",
    "rfe1 = RFE(rfc, 5)\n",
    "rfe1.fit(X_train,y_train)"
   ]
  },
  {
   "cell_type": "code",
   "execution_count": 82,
   "id": "478fcae8",
   "metadata": {},
   "outputs": [
    {
     "data": {
      "text/plain": [
       "array([False,  True, False,  True, False, False,  True, False, False,\n",
       "       False, False, False, False, False,  True, False,  True, False])"
      ]
     },
     "execution_count": 82,
     "metadata": {},
     "output_type": "execute_result"
    }
   ],
   "source": [
    "rfe1.support_"
   ]
  },
  {
   "cell_type": "code",
   "execution_count": 83,
   "id": "c3928b32",
   "metadata": {},
   "outputs": [
    {
     "data": {
      "text/plain": [
       "Index(['poutcome', 'housing', 'month', 'duration', 'pdays'], dtype='object')"
      ]
     },
     "execution_count": 83,
     "metadata": {},
     "output_type": "execute_result"
    }
   ],
   "source": [
    "X_train.columns[rfe1.support_]"
   ]
  },
  {
   "cell_type": "code",
   "execution_count": 84,
   "id": "5f92f77f",
   "metadata": {},
   "outputs": [],
   "source": [
    "cols = X_train.columns[rfe1.support_]"
   ]
  },
  {
   "cell_type": "code",
   "execution_count": 85,
   "id": "f2b531dd",
   "metadata": {},
   "outputs": [
    {
     "data": {
      "text/plain": [
       "RandomForestClassifier(max_depth=5, max_leaf_nodes=50, random_state=44)"
      ]
     },
     "execution_count": 85,
     "metadata": {},
     "output_type": "execute_result"
    }
   ],
   "source": [
    "rfc.fit(X_train[cols],y_train)"
   ]
  },
  {
   "cell_type": "code",
   "execution_count": 86,
   "id": "86fbc984",
   "metadata": {},
   "outputs": [],
   "source": [
    "y_pred3 = rfc.predict(X_test[cols])"
   ]
  },
  {
   "cell_type": "code",
   "execution_count": 87,
   "id": "1cbbb519",
   "metadata": {},
   "outputs": [
    {
     "data": {
      "text/plain": [
       "0.5987525987525988"
      ]
     },
     "execution_count": 87,
     "metadata": {},
     "output_type": "execute_result"
    }
   ],
   "source": [
    "f1_score(y_pred3,y_test)"
   ]
  },
  {
   "cell_type": "code",
   "execution_count": 88,
   "id": "7f8cc9ab",
   "metadata": {},
   "outputs": [
    {
     "data": {
      "text/plain": [
       "array([[1788,  282],\n",
       "       [ 104,  288]], dtype=int64)"
      ]
     },
     "execution_count": 88,
     "metadata": {},
     "output_type": "execute_result"
    }
   ],
   "source": [
    "confusion_matrix(y_pred3,y_test)"
   ]
  },
  {
   "cell_type": "code",
   "execution_count": 89,
   "id": "1d76c9d6",
   "metadata": {},
   "outputs": [
    {
     "name": "stdout",
     "output_type": "stream",
     "text": [
      "              precision    recall  f1-score   support\n",
      "\n",
      "           0       0.86      0.95      0.90      1892\n",
      "           1       0.73      0.51      0.60       570\n",
      "\n",
      "    accuracy                           0.84      2462\n",
      "   macro avg       0.80      0.73      0.75      2462\n",
      "weighted avg       0.83      0.84      0.83      2462\n",
      "\n"
     ]
    }
   ],
   "source": [
    "print(classification_report(y_test, y_pred3))"
   ]
  },
  {
   "cell_type": "markdown",
   "id": "c1b04ba7",
   "metadata": {},
   "source": [
    "## Compare the performance of the Random Forest and the logistic model – -->\n",
    "### Evaluate both models on the test set"
   ]
  },
  {
   "cell_type": "code",
   "execution_count": 92,
   "id": "674f362f",
   "metadata": {},
   "outputs": [
    {
     "name": "stdout",
     "output_type": "stream",
     "text": [
      "              precision    recall  f1-score   support\n",
      "\n",
      "           0       0.84      0.95      0.89      1892\n",
      "           1       0.70      0.40      0.51       570\n",
      "\n",
      "    accuracy                           0.82      2462\n",
      "   macro avg       0.77      0.67      0.70      2462\n",
      "weighted avg       0.81      0.82      0.80      2462\n",
      "\n"
     ]
    }
   ],
   "source": [
    "print(classification_report(y_test, y_pred2))"
   ]
  },
  {
   "cell_type": "code",
   "execution_count": 93,
   "id": "caf5a93f",
   "metadata": {},
   "outputs": [
    {
     "name": "stdout",
     "output_type": "stream",
     "text": [
      "              precision    recall  f1-score   support\n",
      "\n",
      "           0       0.86      0.95      0.90      1892\n",
      "           1       0.73      0.51      0.60       570\n",
      "\n",
      "    accuracy                           0.84      2462\n",
      "   macro avg       0.80      0.73      0.75      2462\n",
      "weighted avg       0.83      0.84      0.83      2462\n",
      "\n"
     ]
    }
   ],
   "source": [
    "print(classification_report(y_test, y_pred3))"
   ]
  },
  {
   "cell_type": "markdown",
   "id": "71a36529",
   "metadata": {},
   "source": [
    "### Which metric did you choose and why?"
   ]
  },
  {
   "cell_type": "markdown",
   "id": "225e186a",
   "metadata": {},
   "source": [
    "#### based on Classification Metrics i choose a Accuracy in both algoritham.  random forest has 84% accuracy\n",
    "#### and logistic regression has 82% accuracy"
   ]
  },
  {
   "cell_type": "markdown",
   "id": "a6794ae4",
   "metadata": {},
   "source": [
    "### Which model has better performance on the test set? "
   ]
  },
  {
   "cell_type": "markdown",
   "id": "c5c8f18d",
   "metadata": {},
   "source": [
    "#### random forest has 84% accuracy , and logistc has 82% accuracy. so random forest has better performance on test set,\n",
    "#### as compare to logistic regression"
   ]
  },
  {
   "cell_type": "markdown",
   "id": "b86f77e0",
   "metadata": {},
   "source": [
    "### Compare the feature importance from the different models – do they agree? Are the top\n",
    "### features similar in both models?"
   ]
  },
  {
   "cell_type": "markdown",
   "id": "586fe1c8",
   "metadata": {},
   "source": [
    "#### 'poutcome', 'housing', 'month', 'duration', 'pdays' the top features are similar in both models."
   ]
  },
  {
   "cell_type": "code",
   "execution_count": null,
   "id": "cd7bdaa3",
   "metadata": {},
   "outputs": [],
   "source": []
  },
  {
   "cell_type": "code",
   "execution_count": null,
   "id": "cd82cabf",
   "metadata": {},
   "outputs": [],
   "source": []
  },
  {
   "cell_type": "code",
   "execution_count": null,
   "id": "55c8c82d",
   "metadata": {},
   "outputs": [],
   "source": []
  }
 ],
 "metadata": {
  "kernelspec": {
   "display_name": "Python 3",
   "language": "python",
   "name": "python3"
  },
  "language_info": {
   "codemirror_mode": {
    "name": "ipython",
    "version": 3
   },
   "file_extension": ".py",
   "mimetype": "text/x-python",
   "name": "python",
   "nbconvert_exporter": "python",
   "pygments_lexer": "ipython3",
   "version": "3.8.8"
  }
 },
 "nbformat": 4,
 "nbformat_minor": 5
}
